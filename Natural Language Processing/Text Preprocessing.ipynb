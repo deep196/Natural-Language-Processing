{
 "cells": [
  {
   "cell_type": "code",
   "execution_count": 1,
   "metadata": {},
   "outputs": [],
   "source": [
    "document = '''The Indian Premier League (IPL) is a professional Twenty20 cricket \n",
    "league in India usually contested between March and May of every year \n",
    "by eight teams representing eight different cities or states in India.\n",
    "[3] The league was founded by the Board of Control for Cricket in \n",
    "India (BCCI) in 2007. The IPL has an exclusive window in ICC Future \n",
    "Tours Programme.[4]'''"
   ]
  },
  {
   "cell_type": "code",
   "execution_count": 2,
   "metadata": {},
   "outputs": [],
   "source": [
    "document = document.lower()"
   ]
  },
  {
   "cell_type": "code",
   "execution_count": 3,
   "metadata": {},
   "outputs": [
    {
     "name": "stdout",
     "output_type": "stream",
     "text": [
      "['the', 'indian', 'premier', 'league', '(ipl)', 'is', 'a', 'professional', 'twenty20', 'cricket', 'league', 'in', 'india', 'usually', 'contested', 'between', 'march', 'and', 'may', 'of', 'every', 'year', 'by', 'eight', 'teams', 'representing', 'eight', 'different', 'cities', 'or', 'states', 'in', 'india.', '[3]', 'the', 'league', 'was', 'founded', 'by', 'the', 'board', 'of', 'control', 'for', 'cricket', 'in', 'india', '(bcci)', 'in', '2007.', 'the', 'ipl', 'has', 'an', 'exclusive', 'window', 'in', 'icc', 'future', 'tours', 'programme.[4]']\n"
     ]
    }
   ],
   "source": [
    "print(document.split())"
   ]
  },
  {
   "cell_type": "markdown",
   "metadata": {},
   "source": [
    "# Tokenization "
   ]
  },
  {
   "cell_type": "code",
   "execution_count": 4,
   "metadata": {},
   "outputs": [],
   "source": [
    "import nltk\n",
    "\n",
    "# one time\n",
    "# nltk.download('punkt')"
   ]
  },
  {
   "cell_type": "code",
   "execution_count": 5,
   "metadata": {},
   "outputs": [],
   "source": [
    "from nltk.tokenize import word_tokenize"
   ]
  },
  {
   "cell_type": "code",
   "execution_count": 6,
   "metadata": {},
   "outputs": [
    {
     "name": "stdout",
     "output_type": "stream",
     "text": [
      "['the', 'indian', 'premier', 'league', '(', 'ipl', ')', 'is', 'a', 'professional', 'twenty20', 'cricket', 'league', 'in', 'india', 'usually', 'contested', 'between', 'march', 'and', 'may', 'of', 'every', 'year', 'by', 'eight', 'teams', 'representing', 'eight', 'different', 'cities', 'or', 'states', 'in', 'india', '.', '[', '3', ']', 'the', 'league', 'was', 'founded', 'by', 'the', 'board', 'of', 'control', 'for', 'cricket', 'in', 'india', '(', 'bcci', ')', 'in', '2007.', 'the', 'ipl', 'has', 'an', 'exclusive', 'window', 'in', 'icc', 'future', 'tours', 'programme', '.', '[', '4', ']']\n"
     ]
    }
   ],
   "source": [
    "tokens = word_tokenize(document)\n",
    "print(tokens)"
   ]
  },
  {
   "cell_type": "code",
   "execution_count": 7,
   "metadata": {},
   "outputs": [
    {
     "data": {
      "text/plain": [
       "72"
      ]
     },
     "execution_count": 7,
     "metadata": {},
     "output_type": "execute_result"
    }
   ],
   "source": [
    "len(tokens) # words, numbers, special charachters "
   ]
  },
  {
   "cell_type": "markdown",
   "metadata": {},
   "source": [
    "# Stopwords"
   ]
  },
  {
   "cell_type": "code",
   "execution_count": 8,
   "metadata": {},
   "outputs": [],
   "source": [
    "# one time\n",
    "# nltk.download('stopwords')"
   ]
  },
  {
   "cell_type": "code",
   "execution_count": 9,
   "metadata": {},
   "outputs": [],
   "source": [
    "from nltk.corpus import stopwords"
   ]
  },
  {
   "cell_type": "code",
   "execution_count": 10,
   "metadata": {},
   "outputs": [
    {
     "name": "stdout",
     "output_type": "stream",
     "text": [
      "['i', 'me', 'my', 'myself', 'we', 'our', 'ours', 'ourselves', 'you', \"you're\", \"you've\", \"you'll\", \"you'd\", 'your', 'yours', 'yourself', 'yourselves', 'he', 'him', 'his', 'himself', 'she', \"she's\", 'her', 'hers', 'herself', 'it', \"it's\", 'its', 'itself', 'they', 'them', 'their', 'theirs', 'themselves', 'what', 'which', 'who', 'whom', 'this', 'that', \"that'll\", 'these', 'those', 'am', 'is', 'are', 'was', 'were', 'be', 'been', 'being', 'have', 'has', 'had', 'having', 'do', 'does', 'did', 'doing', 'a', 'an', 'the', 'and', 'but', 'if', 'or', 'because', 'as', 'until', 'while', 'of', 'at', 'by', 'for', 'with', 'about', 'against', 'between', 'into', 'through', 'during', 'before', 'after', 'above', 'below', 'to', 'from', 'up', 'down', 'in', 'out', 'on', 'off', 'over', 'under', 'again', 'further', 'then', 'once', 'here', 'there', 'when', 'where', 'why', 'how', 'all', 'any', 'both', 'each', 'few', 'more', 'most', 'other', 'some', 'such', 'no', 'nor', 'not', 'only', 'own', 'same', 'so', 'than', 'too', 'very', 's', 't', 'can', 'will', 'just', 'don', \"don't\", 'should', \"should've\", 'now', 'd', 'll', 'm', 'o', 're', 've', 'y', 'ain', 'aren', \"aren't\", 'couldn', \"couldn't\", 'didn', \"didn't\", 'doesn', \"doesn't\", 'hadn', \"hadn't\", 'hasn', \"hasn't\", 'haven', \"haven't\", 'isn', \"isn't\", 'ma', 'mightn', \"mightn't\", 'mustn', \"mustn't\", 'needn', \"needn't\", 'shan', \"shan't\", 'shouldn', \"shouldn't\", 'wasn', \"wasn't\", 'weren', \"weren't\", 'won', \"won't\", 'wouldn', \"wouldn't\"]\n"
     ]
    }
   ],
   "source": [
    "stop_words = stopwords.words('english')\n",
    "print(stop_words)"
   ]
  },
  {
   "cell_type": "code",
   "execution_count": 11,
   "metadata": {},
   "outputs": [
    {
     "name": "stdout",
     "output_type": "stream",
     "text": [
      "['indian', 'premier', 'league', '(', 'ipl', ')', 'professional', 'twenty20', 'cricket', 'league', 'india', 'usually', 'contested', 'march', 'may', 'every', 'year', 'eight', 'teams', 'representing', 'eight', 'different', 'cities', 'states', 'india', '.', '[', '3', ']', 'league', 'founded', 'board', 'control', 'cricket', 'india', '(', 'bcci', ')', '2007.', 'ipl', 'exclusive', 'window', 'icc', 'future', 'tours', 'programme', '.', '[', '4', ']']\n"
     ]
    }
   ],
   "source": [
    "# remove stopwords from the documents\n",
    "\n",
    "clean_tokens = [t for t in tokens if t not in stop_words]\n",
    "print(clean_tokens)"
   ]
  },
  {
   "cell_type": "code",
   "execution_count": 12,
   "metadata": {},
   "outputs": [
    {
     "data": {
      "text/plain": [
       "50"
      ]
     },
     "execution_count": 12,
     "metadata": {},
     "output_type": "execute_result"
    }
   ],
   "source": [
    "len(clean_tokens)"
   ]
  },
  {
   "cell_type": "markdown",
   "metadata": {},
   "source": [
    "## Punctuation"
   ]
  },
  {
   "cell_type": "code",
   "execution_count": 13,
   "metadata": {},
   "outputs": [
    {
     "data": {
      "text/plain": [
       "'!\"#$%&\\'()*+,-./:;<=>?@[\\\\]^_`{|}~'"
      ]
     },
     "execution_count": 13,
     "metadata": {},
     "output_type": "execute_result"
    }
   ],
   "source": [
    "from string import punctuation\n",
    "punctuation"
   ]
  },
  {
   "cell_type": "code",
   "execution_count": 14,
   "metadata": {},
   "outputs": [
    {
     "name": "stdout",
     "output_type": "stream",
     "text": [
      "['indian', 'premier', 'league', 'ipl', 'professional', 'twenty20', 'cricket', 'league', 'india', 'usually', 'contested', 'march', 'may', 'every', 'year', 'eight', 'teams', 'representing', 'eight', 'different', 'cities', 'states', 'india', '3', 'league', 'founded', 'board', 'control', 'cricket', 'india', 'bcci', '2007.', 'ipl', 'exclusive', 'window', 'icc', 'future', 'tours', 'programme', '4']\n"
     ]
    }
   ],
   "source": [
    "clean_tokens = [t for t in clean_tokens if t not in punctuation]\n",
    "print(clean_tokens)"
   ]
  },
  {
   "cell_type": "code",
   "execution_count": 15,
   "metadata": {},
   "outputs": [
    {
     "data": {
      "text/plain": [
       "40"
      ]
     },
     "execution_count": 15,
     "metadata": {},
     "output_type": "execute_result"
    }
   ],
   "source": [
    "len(clean_tokens)"
   ]
  },
  {
   "cell_type": "markdown",
   "metadata": {},
   "source": [
    "## Stemming"
   ]
  },
  {
   "cell_type": "code",
   "execution_count": 16,
   "metadata": {},
   "outputs": [],
   "source": [
    "stemmer = nltk.PorterStemmer()"
   ]
  },
  {
   "cell_type": "code",
   "execution_count": 17,
   "metadata": {},
   "outputs": [
    {
     "data": {
      "text/plain": [
       "'wolv'"
      ]
     },
     "execution_count": 17,
     "metadata": {},
     "output_type": "execute_result"
    }
   ],
   "source": [
    "stemmer.stem(\"wolves\")"
   ]
  },
  {
   "cell_type": "code",
   "execution_count": 18,
   "metadata": {},
   "outputs": [
    {
     "data": {
      "text/plain": [
       "'studi'"
      ]
     },
     "execution_count": 18,
     "metadata": {},
     "output_type": "execute_result"
    }
   ],
   "source": [
    "stemmer.stem(\"studied\")"
   ]
  },
  {
   "cell_type": "markdown",
   "metadata": {},
   "source": [
    "## Lemmatization"
   ]
  },
  {
   "cell_type": "code",
   "execution_count": 19,
   "metadata": {},
   "outputs": [],
   "source": [
    "# one time\n",
    "#nltk.download('wordnet')"
   ]
  },
  {
   "cell_type": "code",
   "execution_count": 20,
   "metadata": {},
   "outputs": [],
   "source": [
    "from nltk.stem import WordNetLemmatizer"
   ]
  },
  {
   "cell_type": "code",
   "execution_count": 21,
   "metadata": {},
   "outputs": [],
   "source": [
    "lemma = WordNetLemmatizer()"
   ]
  },
  {
   "cell_type": "code",
   "execution_count": 22,
   "metadata": {},
   "outputs": [
    {
     "data": {
      "text/plain": [
       "'wolf'"
      ]
     },
     "execution_count": 22,
     "metadata": {},
     "output_type": "execute_result"
    }
   ],
   "source": [
    "lemma.lemmatize(\"wolves\")"
   ]
  },
  {
   "cell_type": "code",
   "execution_count": 23,
   "metadata": {},
   "outputs": [
    {
     "data": {
      "text/plain": [
       "'studied'"
      ]
     },
     "execution_count": 23,
     "metadata": {},
     "output_type": "execute_result"
    }
   ],
   "source": [
    "lemma.lemmatize(\"studied\")"
   ]
  },
  {
   "cell_type": "code",
   "execution_count": 24,
   "metadata": {},
   "outputs": [
    {
     "name": "stdout",
     "output_type": "stream",
     "text": [
      "['indian', 'premier', 'league', 'ipl', 'professional', 'twenty20', 'cricket', 'league', 'india', 'usually', 'contested', 'march', 'may', 'every', 'year', 'eight', 'team', 'representing', 'eight', 'different', 'city', 'state', 'india', '3', 'league', 'founded', 'board', 'control', 'cricket', 'india', 'bcci', '2007.', 'ipl', 'exclusive', 'window', 'icc', 'future', 'tour', 'programme', '4']\n"
     ]
    }
   ],
   "source": [
    "# on clean tokens\n",
    "lemmatized_tokens = [lemma.lemmatize(t) for t in clean_tokens]\n",
    "print(lemmatized_tokens)"
   ]
  },
  {
   "cell_type": "code",
   "execution_count": 25,
   "metadata": {},
   "outputs": [
    {
     "name": "stdout",
     "output_type": "stream",
     "text": [
      "indian premier league ipl professional twenty20 cricket league india usually contested march may every year eight team representing eight different city state india 3 league founded board control cricket india bcci 2007. ipl exclusive window icc future tour programme 4\n"
     ]
    }
   ],
   "source": [
    "clean_doc = ' '.join(lemmatized_tokens)\n",
    "print(clean_doc)"
   ]
  },
  {
   "cell_type": "markdown",
   "metadata": {},
   "source": [
    "## Parts Of Speech Tagging"
   ]
  },
  {
   "cell_type": "code",
   "execution_count": 26,
   "metadata": {},
   "outputs": [
    {
     "data": {
      "text/plain": [
       "[('indian', 'JJ'),\n",
       " ('premier', 'NN'),\n",
       " ('league', 'NN'),\n",
       " ('ipl', 'JJ'),\n",
       " ('professional', 'JJ'),\n",
       " ('twenty20', 'NN'),\n",
       " ('cricket', 'NN'),\n",
       " ('league', 'NN'),\n",
       " ('india', 'NN'),\n",
       " ('usually', 'RB'),\n",
       " ('contested', 'VBN'),\n",
       " ('march', 'NN'),\n",
       " ('may', 'MD'),\n",
       " ('every', 'DT'),\n",
       " ('year', 'NN'),\n",
       " ('eight', 'CD'),\n",
       " ('team', 'NN'),\n",
       " ('representing', 'VBG'),\n",
       " ('eight', 'CD'),\n",
       " ('different', 'JJ'),\n",
       " ('city', 'NN'),\n",
       " ('state', 'NN'),\n",
       " ('india', 'VBD'),\n",
       " ('3', 'CD'),\n",
       " ('league', 'NN'),\n",
       " ('founded', 'VBN'),\n",
       " ('board', 'NN'),\n",
       " ('control', 'NN'),\n",
       " ('cricket', 'NN'),\n",
       " ('india', 'VBP'),\n",
       " ('bcci', 'NN'),\n",
       " ('2007.', 'CD'),\n",
       " ('ipl', 'NN'),\n",
       " ('exclusive', 'JJ'),\n",
       " ('window', 'NN'),\n",
       " ('icc', 'JJ'),\n",
       " ('future', 'JJ'),\n",
       " ('tour', 'NN'),\n",
       " ('programme', 'NN'),\n",
       " ('4', 'CD')]"
      ]
     },
     "execution_count": 26,
     "metadata": {},
     "output_type": "execute_result"
    }
   ],
   "source": [
    "# one time\n",
    "#nltk.download('averaged_perceptron_tagger')\n",
    "\n",
    "nltk.pos_tag(lemmatized_tokens)"
   ]
  },
  {
   "cell_type": "markdown",
   "metadata": {},
   "source": [
    "<hr>\n",
    "<p>CC - coordinating conjunction</p>\n",
    "<p>CD - cardinal digit</p>\n",
    "<p>DT - determiner</p>\n",
    "<p>EX - existential there </p>\n",
    "<p>FW - foreign word</p>\n",
    "<p>IN - preposition/subordinating conjunction</p>\n",
    "<p>JJ - adjective ‘big’</p>\n",
    "<p>JJR - adjective, comparative ‘bigger’</p>\n",
    "<p>JJS - adjective, superlative ‘biggest’</p>\n",
    "<p>LS - list marker </p>\n",
    "<p>MD - modal could, will</p>\n",
    "<p>NN - noun, singular ‘desk’</p>\n",
    "<p>NNS - noun plural ‘desks’</p>\n",
    "<p>NNP - proper noun, singular ‘Harrison’</p>\n",
    "<p>NNPS - proper noun, plural ‘Americans’</p>\n",
    "<p>PDT - predeterminer ‘all the kids’</p>\n",
    "<p>POS - possessive ending parent‘s</p>\n",
    "<p>PRP - personal pronoun I, he, she</p>\n",
    "<p>RB - adverb very, silently</p>\n",
    "<p>RBR - adverb, comparative better</p>\n",
    "<p>RBS - adverb, superlative best</p>\n",
    "<p>RP - particle give up</p>\n",
    "<p>TO - to go 'to' the store</p>\n",
    "<p>UH - interjection </p>\n",
    "<p>VB - verb, base form take</p>\n",
    "<p>VBD - verb, past tense took</p>\n",
    "<p>VBG - verb, gerund/present participle taking</p>\n",
    "<p>VBN - verb, past participle taken</p>\n",
    "<p>VBP - verb, sing. present, non-3d take</p>\n",
    "<p>VBZ - verb, 3rd person sing. present takes</p>\n",
    "<p>WDT - wh-determiner which</p>\n",
    "<p>WP - wh-pronoun who, what</p>\n",
    "<p>WRB - wh-abverb where, when</p>\n"
   ]
  },
  {
   "cell_type": "markdown",
   "metadata": {},
   "source": [
    "## Named Entity Recognition"
   ]
  },
  {
   "cell_type": "code",
   "execution_count": 27,
   "metadata": {},
   "outputs": [],
   "source": [
    "#!pip install spacy\n",
    "#!python -m spacy download en"
   ]
  },
  {
   "cell_type": "code",
   "execution_count": 28,
   "metadata": {},
   "outputs": [],
   "source": [
    "import spacy"
   ]
  },
  {
   "cell_type": "code",
   "execution_count": 29,
   "metadata": {},
   "outputs": [],
   "source": [
    "nlp = spacy.load(\"en_core_web_sm\")"
   ]
  },
  {
   "cell_type": "code",
   "execution_count": 30,
   "metadata": {},
   "outputs": [],
   "source": [
    "doc = \"The legendary Sachin Tendulkar was voted as the greatest Test men's batsman by a panel of commentators and fans on Star Sports.\" "
   ]
  },
  {
   "cell_type": "code",
   "execution_count": 31,
   "metadata": {},
   "outputs": [],
   "source": [
    "spacy_doc = nlp(doc)"
   ]
  },
  {
   "cell_type": "code",
   "execution_count": 38,
   "metadata": {},
   "outputs": [
    {
     "data": {
      "text/plain": [
       "(Sachin Tendulkar, Star Sports)"
      ]
     },
     "execution_count": 38,
     "metadata": {},
     "output_type": "execute_result"
    }
   ],
   "source": [
    "spacy_doc.ents"
   ]
  },
  {
   "cell_type": "code",
   "execution_count": 32,
   "metadata": {},
   "outputs": [
    {
     "name": "stdout",
     "output_type": "stream",
     "text": [
      "[Sachin Tendulkar, Star Sports]\n"
     ]
    }
   ],
   "source": [
    "print([entity for entity in spacy_doc.ents])"
   ]
  },
  {
   "cell_type": "markdown",
   "metadata": {},
   "source": [
    "## WordCloud"
   ]
  },
  {
   "cell_type": "code",
   "execution_count": 33,
   "metadata": {},
   "outputs": [],
   "source": [
    "#!pip install wordcloud"
   ]
  },
  {
   "cell_type": "code",
   "execution_count": 35,
   "metadata": {},
   "outputs": [],
   "source": [
    "from wordcloud import WordCloud\n",
    "import matplotlib.pyplot as plt"
   ]
  },
  {
   "cell_type": "code",
   "execution_count": 36,
   "metadata": {},
   "outputs": [
    {
     "data": {
      "text/plain": [
       "<wordcloud.wordcloud.WordCloud at 0x2766443dd00>"
      ]
     },
     "execution_count": 36,
     "metadata": {},
     "output_type": "execute_result"
    }
   ],
   "source": [
    "wc = WordCloud(width=500,\n",
    "          height=500,\n",
    "          background_color=\"white\",\n",
    "          min_font_size=10)\n",
    "\n",
    "wc.generate(document)"
   ]
  },
  {
   "cell_type": "code",
   "execution_count": 37,
   "metadata": {},
   "outputs": [
    {
     "data": {
      "image/png": "[encoded data removed]",
      "text/plain": [
       "<Figure size 432x432 with 1 Axes>"
      ]
     },
     "metadata": {
      "needs_background": "light"
     },
     "output_type": "display_data"
    }
   ],
   "source": [
    "plt.figure(figsize=(6,6))\n",
    "plt.imshow(wc)\n",
    "plt.axis(\"off\")\n",
    "plt.show()"
   ]
  },
  {
   "cell_type": "code",
   "execution_count": null,
   "metadata": {},
   "outputs": [],
   "source": []
  }
 ],
 "metadata": {
  "kernelspec": {
   "display_name": "Python 3",
   "language": "python",
   "name": "python3"
  },
  "language_info": {
   "codemirror_mode": {
    "name": "ipython",
    "version": 3
   },
   "file_extension": ".py",
   "mimetype": "text/x-python",
   "name": "python",
   "nbconvert_exporter": "python",
   "pygments_lexer": "ipython3",
   "version": "3.8.8"
  }
 },
 "nbformat": 4,
 "nbformat_minor": 2
}
