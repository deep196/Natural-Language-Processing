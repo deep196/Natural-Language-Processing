{
 "cells": [
  {
   "cell_type": "code",
   "execution_count": 1,
   "metadata": {
    "executionInfo": {
     "elapsed": 3192,
     "status": "ok",
     "timestamp": 1643775909777,
     "user": {
      "displayName": "Deepak Avhad",
      "photoUrl": "https://lh3.googleusercontent.com/a-/AOh14GhY6x3bmDdXRl6lSqWi0RKwhXwFroevfB4OUaxfwg=s64",
      "userId": "16043617655025119202"
     },
     "user_tz": -330
    },
    "id": "IDZcbNzVT_Md"
   },
   "outputs": [],
   "source": [
    "import numpy as np\n",
    "import pandas as pd\n",
    "import matplotlib.pyplot as plt\n",
    "import seaborn as sns\n",
    "\n",
    "from sklearn.model_selection import train_test_split\n",
    "from sklearn.metrics import classification_report\n",
    "\n",
    "from tensorflow.keras.preprocessing.text import Tokenizer\n",
    "from tensorflow.keras.preprocessing import sequence\n",
    "from tensorflow.keras.models import Sequential\n",
    "from tensorflow.keras.layers import Dense,Embedding,Flatten, SimpleRNN, LSTM, GRU, Bidirectional \n",
    "\n",
    "import warnings\n",
    "warnings.filterwarnings(\"ignore\")"
   ]
  },
  {
   "cell_type": "code",
   "execution_count": 2,
   "metadata": {
    "executionInfo": {
     "elapsed": 674,
     "status": "ok",
     "timestamp": 1643775910447,
     "user": {
      "displayName": "Deepak Avhad",
      "photoUrl": "https://lh3.googleusercontent.com/a-/AOh14GhY6x3bmDdXRl6lSqWi0RKwhXwFroevfB4OUaxfwg=s64",
      "userId": "16043617655025119202"
     },
     "user_tz": -330
    },
    "id": "dRz2_snrUamn"
   },
   "outputs": [],
   "source": [
    "df=pd.read_csv(\"/content/drive/MyDrive/review.csv\")"
   ]
  },
  {
   "cell_type": "code",
   "execution_count": 3,
   "metadata": {
    "colab": {
     "base_uri": "https://localhost:8080/",
     "height": 206
    },
    "executionInfo": {
     "elapsed": 14,
     "status": "ok",
     "timestamp": 1643775910448,
     "user": {
      "displayName": "Deepak Avhad",
      "photoUrl": "https://lh3.googleusercontent.com/a-/AOh14GhY6x3bmDdXRl6lSqWi0RKwhXwFroevfB4OUaxfwg=s64",
      "userId": "16043617655025119202"
     },
     "user_tz": -330
    },
    "id": "s3UVTuYYVKB3",
    "outputId": "cf31345a-8e8f-4cd8-aa74-283cbacdc48c"
   },
   "outputs": [
    {
     "data": {
      "text/html": [
       "\n",
       "  <div id=\"df-5a74dfdb-a81f-4918-b634-0f3ccebba6c1\">\n",
       "    <div class=\"colab-df-container\">\n",
       "      <div>\n",
       "<style scoped>\n",
       "    .dataframe tbody tr th:only-of-type {\n",
       "        vertical-align: middle;\n",
       "    }\n",
       "\n",
       "    .dataframe tbody tr th {\n",
       "        vertical-align: top;\n",
       "    }\n",
       "\n",
       "    .dataframe thead th {\n",
       "        text-align: right;\n",
       "    }\n",
       "</style>\n",
       "<table border=\"1\" class=\"dataframe\">\n",
       "  <thead>\n",
       "    <tr style=\"text-align: right;\">\n",
       "      <th></th>\n",
       "      <th>Unnamed: 0</th>\n",
       "      <th>review</th>\n",
       "      <th>sentiment</th>\n",
       "    </tr>\n",
       "  </thead>\n",
       "  <tbody>\n",
       "    <tr>\n",
       "      <th>0</th>\n",
       "      <td>0</td>\n",
       "      <td>Not sure who was more lost - the flat characte...</td>\n",
       "      <td>0</td>\n",
       "    </tr>\n",
       "    <tr>\n",
       "      <th>1</th>\n",
       "      <td>1</td>\n",
       "      <td>Attempting artiness with black &amp; white and cle...</td>\n",
       "      <td>0</td>\n",
       "    </tr>\n",
       "    <tr>\n",
       "      <th>2</th>\n",
       "      <td>2</td>\n",
       "      <td>Very little music or anything to speak of.</td>\n",
       "      <td>0</td>\n",
       "    </tr>\n",
       "    <tr>\n",
       "      <th>3</th>\n",
       "      <td>3</td>\n",
       "      <td>The best scene in the movie was when Gerardo i...</td>\n",
       "      <td>1</td>\n",
       "    </tr>\n",
       "    <tr>\n",
       "      <th>4</th>\n",
       "      <td>4</td>\n",
       "      <td>The rest of the movie lacks art, charm, meanin...</td>\n",
       "      <td>0</td>\n",
       "    </tr>\n",
       "  </tbody>\n",
       "</table>\n",
       "</div>\n",
       "      <button class=\"colab-df-convert\" onclick=\"convertToInteractive('df-5a74dfdb-a81f-4918-b634-0f3ccebba6c1')\"\n",
       "              title=\"Convert this dataframe to an interactive table.\"\n",
       "              style=\"display:none;\">\n",
       "        \n",
       "  <svg xmlns=\"http://www.w3.org/2000/svg\" height=\"24px\"viewBox=\"0 0 24 24\"\n",
       "       width=\"24px\">\n",
       "    <path d=\"M0 0h24v24H0V0z\" fill=\"none\"/>\n",
       "    <path d=\"M18.56 5.44l.94 2.06.94-2.06 2.06-.94-2.06-.94-.94-2.06-.94 2.06-2.06.94zm-11 1L8.5 8.5l.94-2.06 2.06-.94-2.06-.94L8.5 2.5l-.94 2.06-2.06.94zm10 10l.94 2.06.94-2.06 2.06-.94-2.06-.94-.94-2.06-.94 2.06-2.06.94z\"/><path d=\"M17.41 7.96l-1.37-1.37c-.4-.4-.92-.59-1.43-.59-.52 0-1.04.2-1.43.59L10.3 9.45l-7.72 7.72c-.78.78-.78 2.05 0 2.83L4 21.41c.39.39.9.59 1.41.59.51 0 1.02-.2 1.41-.59l7.78-7.78 2.81-2.81c.8-.78.8-2.07 0-2.86zM5.41 20L4 18.59l7.72-7.72 1.47 1.35L5.41 20z\"/>\n",
       "  </svg>\n",
       "      </button>\n",
       "      \n",
       "  <style>\n",
       "    .colab-df-container {\n",
       "      display:flex;\n",
       "      flex-wrap:wrap;\n",
       "      gap: 12px;\n",
       "    }\n",
       "\n",
       "    .colab-df-convert {\n",
       "      background-color: #E8F0FE;\n",
       "      border: none;\n",
       "      border-radius: 50%;\n",
       "      cursor: pointer;\n",
       "      display: none;\n",
       "      fill: #1967D2;\n",
       "      height: 32px;\n",
       "      padding: 0 0 0 0;\n",
       "      width: 32px;\n",
       "    }\n",
       "\n",
       "    .colab-df-convert:hover {\n",
       "      background-color: #E2EBFA;\n",
       "      box-shadow: 0px 1px 2px rgba(60, 64, 67, 0.3), 0px 1px 3px 1px rgba(60, 64, 67, 0.15);\n",
       "      fill: #174EA6;\n",
       "    }\n",
       "\n",
       "    [theme=dark] .colab-df-convert {\n",
       "      background-color: #3B4455;\n",
       "      fill: #D2E3FC;\n",
       "    }\n",
       "\n",
       "    [theme=dark] .colab-df-convert:hover {\n",
       "      background-color: #434B5C;\n",
       "      box-shadow: 0px 1px 3px 1px rgba(0, 0, 0, 0.15);\n",
       "      filter: drop-shadow(0px 1px 2px rgba(0, 0, 0, 0.3));\n",
       "      fill: #FFFFFF;\n",
       "    }\n",
       "  </style>\n",
       "\n",
       "      <script>\n",
       "        const buttonEl =\n",
       "          document.querySelector('#df-5a74dfdb-a81f-4918-b634-0f3ccebba6c1 button.colab-df-convert');\n",
       "        buttonEl.style.display =\n",
       "          google.colab.kernel.accessAllowed ? 'block' : 'none';\n",
       "\n",
       "        async function convertToInteractive(key) {\n",
       "          const element = document.querySelector('#df-5a74dfdb-a81f-4918-b634-0f3ccebba6c1');\n",
       "          const dataTable =\n",
       "            await google.colab.kernel.invokeFunction('convertToInteractive',\n",
       "                                                     [key], {});\n",
       "          if (!dataTable) return;\n",
       "\n",
       "          const docLinkHtml = 'Like what you see? Visit the ' +\n",
       "            '<a target=\"_blank\" href=https://colab.research.google.com/notebooks/data_table.ipynb>data table notebook</a>'\n",
       "            + ' to learn more about interactive tables.';\n",
       "          element.innerHTML = '';\n",
       "          dataTable['output_type'] = 'display_data';\n",
       "          await google.colab.output.renderOutput(dataTable, element);\n",
       "          const docLink = document.createElement('div');\n",
       "          docLink.innerHTML = docLinkHtml;\n",
       "          element.appendChild(docLink);\n",
       "        }\n",
       "      </script>\n",
       "    </div>\n",
       "  </div>\n",
       "  "
      ],
      "text/plain": [
       "   Unnamed: 0                                             review  sentiment\n",
       "0           0  Not sure who was more lost - the flat characte...          0\n",
       "1           1  Attempting artiness with black & white and cle...          0\n",
       "2           2         Very little music or anything to speak of.          0\n",
       "3           3  The best scene in the movie was when Gerardo i...          1\n",
       "4           4  The rest of the movie lacks art, charm, meanin...          0"
      ]
     },
     "execution_count": 3,
     "metadata": {},
     "output_type": "execute_result"
    }
   ],
   "source": [
    "df.head()"
   ]
  },
  {
   "cell_type": "code",
   "execution_count": 4,
   "metadata": {
    "executionInfo": {
     "elapsed": 12,
     "status": "ok",
     "timestamp": 1643775910449,
     "user": {
      "displayName": "Deepak Avhad",
      "photoUrl": "https://lh3.googleusercontent.com/a-/AOh14GhY6x3bmDdXRl6lSqWi0RKwhXwFroevfB4OUaxfwg=s64",
      "userId": "16043617655025119202"
     },
     "user_tz": -330
    },
    "id": "-erMYKsSVLjA"
   },
   "outputs": [],
   "source": [
    "from wordcloud import WordCloud"
   ]
  },
  {
   "cell_type": "code",
   "execution_count": 5,
   "metadata": {
    "executionInfo": {
     "elapsed": 13,
     "status": "ok",
     "timestamp": 1643775910451,
     "user": {
      "displayName": "Deepak Avhad",
      "photoUrl": "https://lh3.googleusercontent.com/a-/AOh14GhY6x3bmDdXRl6lSqWi0RKwhXwFroevfB4OUaxfwg=s64",
      "userId": "16043617655025119202"
     },
     "user_tz": -330
    },
    "id": "8EsqoSvvVUqJ"
   },
   "outputs": [],
   "source": [
    "positive_review = ' '.join(df[df[\"sentiment\"] == 1][\"review\"])\n",
    "negative_review = ' '.join(df[df[\"sentiment\"] == 0][\"review\"])"
   ]
  },
  {
   "cell_type": "markdown",
   "metadata": {
    "id": "AcJyw4aHV7WW"
   },
   "source": [
    "##Positive review"
   ]
  },
  {
   "cell_type": "code",
   "execution_count": 6,
   "metadata": {
    "executionInfo": {
     "elapsed": 13,
     "status": "ok",
     "timestamp": 1643775910452,
     "user": {
      "displayName": "Deepak Avhad",
      "photoUrl": "https://lh3.googleusercontent.com/a-/AOh14GhY6x3bmDdXRl6lSqWi0RKwhXwFroevfB4OUaxfwg=s64",
      "userId": "16043617655025119202"
     },
     "user_tz": -330
    },
    "id": "96Shn40YVZYy"
   },
   "outputs": [],
   "source": [
    "wc = WordCloud(width = 800, \n",
    "               height = 800, \n",
    "               background_color ='white',  \n",
    "               min_font_size = 10)"
   ]
  },
  {
   "cell_type": "code",
   "execution_count": 7,
   "metadata": {
    "colab": {
     "base_uri": "https://localhost:8080/"
    },
    "executionInfo": {
     "elapsed": 2042,
     "status": "ok",
     "timestamp": 1643775912481,
     "user": {
      "displayName": "Deepak Avhad",
      "photoUrl": "https://lh3.googleusercontent.com/a-/AOh14GhY6x3bmDdXRl6lSqWi0RKwhXwFroevfB4OUaxfwg=s64",
      "userId": "16043617655025119202"
     },
     "user_tz": -330
    },
    "id": "_hqCu5ivVceN",
    "outputId": "ce6f72f4-f56d-4da3-9df9-5451cd0f2f90"
   },
   "outputs": [
    {
     "data": {
      "text/plain": [
       "<wordcloud.wordcloud.WordCloud at 0x7fb711538e90>"
      ]
     },
     "execution_count": 7,
     "metadata": {},
     "output_type": "execute_result"
    }
   ],
   "source": [
    "wc.generate(positive_review)"
   ]
  },
  {
   "cell_type": "code",
   "execution_count": 8,
   "metadata": {
    "colab": {
     "base_uri": "https://localhost:8080/",
     "height": 357
    },
    "executionInfo": {
     "elapsed": 1540,
     "status": "ok",
     "timestamp": 1643775914013,
     "user": {
      "displayName": "Deepak Avhad",
      "photoUrl": "https://lh3.googleusercontent.com/a-/AOh14GhY6x3bmDdXRl6lSqWi0RKwhXwFroevfB4OUaxfwg=s64",
      "userId": "16043617655025119202"
     },
     "user_tz": -330
    },
    "id": "Mh7JOJUaVhsQ",
    "outputId": "9f9fd367-741f-4a37-a534-535c7fbe2ed7"
   },
   "outputs": [
    {
     "data": {
      "image/png": "[encoded data removed]",
      "text/plain": [
       "<Figure size 432x432 with 1 Axes>"
      ]
     },
     "metadata": {
      "needs_background": "light"
     },
     "output_type": "display_data"
    }
   ],
   "source": [
    "plt.figure(figsize = (6,6)) \n",
    "plt.imshow(wc) \n",
    "plt.axis(\"off\") \n",
    "plt.show()"
   ]
  },
  {
   "cell_type": "markdown",
   "metadata": {
    "id": "CGhB19grV0uG"
   },
   "source": [
    "##Negative review"
   ]
  },
  {
   "cell_type": "code",
   "execution_count": 9,
   "metadata": {
    "executionInfo": {
     "elapsed": 11,
     "status": "ok",
     "timestamp": 1643775914016,
     "user": {
      "displayName": "Deepak Avhad",
      "photoUrl": "https://lh3.googleusercontent.com/a-/AOh14GhY6x3bmDdXRl6lSqWi0RKwhXwFroevfB4OUaxfwg=s64",
      "userId": "16043617655025119202"
     },
     "user_tz": -330
    },
    "id": "D_l5CkmPVoGx"
   },
   "outputs": [],
   "source": [
    "wc = WordCloud(width = 800, \n",
    "               height = 800, \n",
    "               background_color ='white',  \n",
    "               min_font_size = 10)"
   ]
  },
  {
   "cell_type": "code",
   "execution_count": 10,
   "metadata": {
    "colab": {
     "base_uri": "https://localhost:8080/"
    },
    "executionInfo": {
     "elapsed": 2976,
     "status": "ok",
     "timestamp": 1643775916982,
     "user": {
      "displayName": "Deepak Avhad",
      "photoUrl": "https://lh3.googleusercontent.com/a-/AOh14GhY6x3bmDdXRl6lSqWi0RKwhXwFroevfB4OUaxfwg=s64",
      "userId": "16043617655025119202"
     },
     "user_tz": -330
    },
    "id": "ESOET_dHVsIR",
    "outputId": "091df6ed-70ca-4610-9de7-1a989bd9c457"
   },
   "outputs": [
    {
     "data": {
      "text/plain": [
       "<wordcloud.wordcloud.WordCloud at 0x7fb710b89490>"
      ]
     },
     "execution_count": 10,
     "metadata": {},
     "output_type": "execute_result"
    }
   ],
   "source": [
    "wc.generate(negative_review)"
   ]
  },
  {
   "cell_type": "code",
   "execution_count": 11,
   "metadata": {
    "colab": {
     "base_uri": "https://localhost:8080/",
     "height": 357
    },
    "executionInfo": {
     "elapsed": 1618,
     "status": "ok",
     "timestamp": 1643775918595,
     "user": {
      "displayName": "Deepak Avhad",
      "photoUrl": "https://lh3.googleusercontent.com/a-/AOh14GhY6x3bmDdXRl6lSqWi0RKwhXwFroevfB4OUaxfwg=s64",
      "userId": "16043617655025119202"
     },
     "user_tz": -330
    },
    "id": "M8o_RJWgVuln",
    "outputId": "e2600639-bcd1-4093-f3ef-a45bd9815f82"
   },
   "outputs": [
    {
     "data": {
      "image/png": "[encoded data removed]",
      "text/plain": [
       "<Figure size 432x432 with 1 Axes>"
      ]
     },
     "metadata": {
      "needs_background": "light"
     },
     "output_type": "display_data"
    }
   ],
   "source": [
    "plt.figure(figsize = (6,6)) \n",
    "plt.imshow(wc) \n",
    "plt.axis(\"off\") \n",
    "plt.show()"
   ]
  },
  {
   "cell_type": "code",
   "execution_count": 12,
   "metadata": {
    "executionInfo": {
     "elapsed": 90,
     "status": "ok",
     "timestamp": 1643775918598,
     "user": {
      "displayName": "Deepak Avhad",
      "photoUrl": "https://lh3.googleusercontent.com/a-/AOh14GhY6x3bmDdXRl6lSqWi0RKwhXwFroevfB4OUaxfwg=s64",
      "userId": "16043617655025119202"
     },
     "user_tz": -330
    },
    "id": "XJMzWlaPVxpR"
   },
   "outputs": [],
   "source": [
    "# Feature and Target\n",
    "X = df[\"review\"]\n",
    "y = df[\"sentiment\"]"
   ]
  },
  {
   "cell_type": "code",
   "execution_count": 13,
   "metadata": {
    "executionInfo": {
     "elapsed": 92,
     "status": "ok",
     "timestamp": 1643775918603,
     "user": {
      "displayName": "Deepak Avhad",
      "photoUrl": "https://lh3.googleusercontent.com/a-/AOh14GhY6x3bmDdXRl6lSqWi0RKwhXwFroevfB4OUaxfwg=s64",
      "userId": "16043617655025119202"
     },
     "user_tz": -330
    },
    "id": "PeU8YmUwYVEI"
   },
   "outputs": [],
   "source": [
    "# Train test split\n",
    "X_train, X_test, y_train, y_test = train_test_split(X,y,test_size=0.3, random_state=1)"
   ]
  },
  {
   "cell_type": "code",
   "execution_count": 14,
   "metadata": {
    "executionInfo": {
     "elapsed": 91,
     "status": "ok",
     "timestamp": 1643775918604,
     "user": {
      "displayName": "Deepak Avhad",
      "photoUrl": "https://lh3.googleusercontent.com/a-/AOh14GhY6x3bmDdXRl6lSqWi0RKwhXwFroevfB4OUaxfwg=s64",
      "userId": "16043617655025119202"
     },
     "user_tz": -330
    },
    "id": "SOTURkq5YZui"
   },
   "outputs": [],
   "source": [
    "# Tokenization\n",
    "tokenizer = Tokenizer()\n",
    "tokenizer.fit_on_texts(X_train)"
   ]
  },
  {
   "cell_type": "code",
   "execution_count": 15,
   "metadata": {
    "colab": {
     "base_uri": "https://localhost:8080/"
    },
    "executionInfo": {
     "elapsed": 91,
     "status": "ok",
     "timestamp": 1643775918605,
     "user": {
      "displayName": "Deepak Avhad",
      "photoUrl": "https://lh3.googleusercontent.com/a-/AOh14GhY6x3bmDdXRl6lSqWi0RKwhXwFroevfB4OUaxfwg=s64",
      "userId": "16043617655025119202"
     },
     "user_tz": -330
    },
    "id": "HLxlM_JebcOY",
    "outputId": "0c383ffc-9eee-4f6a-fc86-9ccf092b0a14"
   },
   "outputs": [
    {
     "data": {
      "text/plain": [
       "{1: 'the',\n",
       " 2: 'and',\n",
       " 3: 'a',\n",
       " 4: 'of',\n",
       " 5: 'is',\n",
       " 6: 'this',\n",
       " 7: 'it',\n",
       " 8: 'i',\n",
       " 9: 'to',\n",
       " 10: 'in',\n",
       " 11: 'was',\n",
       " 12: 'movie',\n",
       " 13: 'film',\n",
       " 14: 'that',\n",
       " 15: 'for',\n",
       " 16: 'with',\n",
       " 17: 'as',\n",
       " 18: 'but',\n",
       " 19: 'are',\n",
       " 20: 'on',\n",
       " 21: 'not',\n",
       " 22: \"it's\",\n",
       " 23: 'just',\n",
       " 24: 'one',\n",
       " 25: 'you',\n",
       " 26: 'bad',\n",
       " 27: 'an',\n",
       " 28: 'all',\n",
       " 29: 'so',\n",
       " 30: 'about',\n",
       " 31: 'at',\n",
       " 32: 'very',\n",
       " 33: 'there',\n",
       " 34: 'like',\n",
       " 35: 'good',\n",
       " 36: 'by',\n",
       " 37: 'from',\n",
       " 38: 'have',\n",
       " 39: 'time',\n",
       " 40: 'he',\n",
       " 41: 'out',\n",
       " 42: 'even',\n",
       " 43: 'acting',\n",
       " 44: 'has',\n",
       " 45: 'his',\n",
       " 46: 'be',\n",
       " 47: 'were',\n",
       " 48: 'well',\n",
       " 49: 'if',\n",
       " 50: 'great',\n",
       " 51: 'who',\n",
       " 52: 'characters',\n",
       " 53: 'how',\n",
       " 54: 'more',\n",
       " 55: 'my',\n",
       " 56: 'or',\n",
       " 57: 'really',\n",
       " 58: 'see',\n",
       " 59: 'when',\n",
       " 60: 'some',\n",
       " 61: 'than',\n",
       " 62: 'no',\n",
       " 63: 'best',\n",
       " 64: 'plot',\n",
       " 65: 'made',\n",
       " 66: 'story',\n",
       " 67: 'movies',\n",
       " 68: 'character',\n",
       " 69: \"didn't\",\n",
       " 70: 'most',\n",
       " 71: 'scenes',\n",
       " 72: 'wonderful',\n",
       " 73: 'its',\n",
       " 74: 'better',\n",
       " 75: \"don't\",\n",
       " 76: '10',\n",
       " 77: 'me',\n",
       " 78: 'ever',\n",
       " 79: 'they',\n",
       " 80: 'what',\n",
       " 81: 'which',\n",
       " 82: 'also',\n",
       " 83: 'can',\n",
       " 84: 'only',\n",
       " 85: 'real',\n",
       " 86: 'work',\n",
       " 87: 'seen',\n",
       " 88: 'will',\n",
       " 89: 'because',\n",
       " 90: 'too',\n",
       " 91: 'think',\n",
       " 92: 'love',\n",
       " 93: 'into',\n",
       " 94: 'other',\n",
       " 95: 'look',\n",
       " 96: 'actors',\n",
       " 97: 'films',\n",
       " 98: 'do',\n",
       " 99: 'your',\n",
       " 100: 'her',\n",
       " 101: 'make',\n",
       " 102: 'here',\n",
       " 103: 'way',\n",
       " 104: 'excellent',\n",
       " 105: 'much',\n",
       " 106: 'would',\n",
       " 107: 'any',\n",
       " 108: 'had',\n",
       " 109: 'nothing',\n",
       " 110: 'anyone',\n",
       " 111: 'script',\n",
       " 112: 'never',\n",
       " 113: 'funny',\n",
       " 114: 'their',\n",
       " 115: 'little',\n",
       " 116: 'could',\n",
       " 117: 'watch',\n",
       " 118: 'recommend',\n",
       " 119: 'up',\n",
       " 120: 'get',\n",
       " 121: 'art',\n",
       " 122: 'cast',\n",
       " 123: 'performance',\n",
       " 124: 'part',\n",
       " 125: 'man',\n",
       " 126: 'music',\n",
       " 127: 'watching',\n",
       " 128: 'stupid',\n",
       " 129: 'many',\n",
       " 130: 'two',\n",
       " 131: 'people',\n",
       " 132: 'awful',\n",
       " 133: 'terrible',\n",
       " 134: 'years',\n",
       " 135: 'worth',\n",
       " 136: 'pretty',\n",
       " 137: 'screen',\n",
       " 138: 'still',\n",
       " 139: 'saw',\n",
       " 140: 'life',\n",
       " 141: 'worse',\n",
       " 142: 'such',\n",
       " 143: 'interesting',\n",
       " 144: 'thing',\n",
       " 145: 'waste',\n",
       " 146: 'dialogue',\n",
       " 147: 'actually',\n",
       " 148: 'liked',\n",
       " 149: 'effects',\n",
       " 150: 'those',\n",
       " 151: 'over',\n",
       " 152: 'short',\n",
       " 153: 'special',\n",
       " 154: 'scene',\n",
       " 155: 'thought',\n",
       " 156: 'go',\n",
       " 157: 'after',\n",
       " 158: 'writing',\n",
       " 159: 'truly',\n",
       " 160: \"can't\",\n",
       " 161: 'played',\n",
       " 162: 'first',\n",
       " 163: 'watched',\n",
       " 164: 'worst',\n",
       " 165: 'feeling',\n",
       " 166: 'again',\n",
       " 167: 'loved',\n",
       " 168: 'these',\n",
       " 169: 'she',\n",
       " 170: 'every',\n",
       " 171: 'been',\n",
       " 172: 'we',\n",
       " 173: 'totally',\n",
       " 174: 'least',\n",
       " 175: 'line',\n",
       " 176: 'know',\n",
       " 177: 'should',\n",
       " 178: 'predictable',\n",
       " 179: 'show',\n",
       " 180: 'going',\n",
       " 181: 'lot',\n",
       " 182: 'enough',\n",
       " 183: 'ending',\n",
       " 184: 'sucks',\n",
       " 185: 'cinema',\n",
       " 186: 'everything',\n",
       " 187: 'them',\n",
       " 188: 'almost',\n",
       " 189: 'playing',\n",
       " 190: 'horror',\n",
       " 191: \"i'm\",\n",
       " 192: 'being',\n",
       " 193: 'camera',\n",
       " 194: 'directing',\n",
       " 195: 'now',\n",
       " 196: 'highly',\n",
       " 197: 'piece',\n",
       " 198: 'however',\n",
       " 199: 'wasted',\n",
       " 200: \"doesn't\",\n",
       " 201: 'beautiful',\n",
       " 202: 'though',\n",
       " 203: 'between',\n",
       " 204: 'cinematography',\n",
       " 205: 'simply',\n",
       " 206: 'mess',\n",
       " 207: 'right',\n",
       " 208: 'minutes',\n",
       " 209: 'probably',\n",
       " 210: 'whole',\n",
       " 211: 'both',\n",
       " 212: 'certainly',\n",
       " 213: 'does',\n",
       " 214: 'comedy',\n",
       " 215: 'long',\n",
       " 216: 'seeing',\n",
       " 217: 'black',\n",
       " 218: \"i've\",\n",
       " 219: 'absolutely',\n",
       " 220: 'each',\n",
       " 221: 'give',\n",
       " 222: 'actor',\n",
       " 223: 'makes',\n",
       " 224: \"there's\",\n",
       " 225: 'tv',\n",
       " 226: 'definitely',\n",
       " 227: 'then',\n",
       " 228: 'game',\n",
       " 229: 'flick',\n",
       " 230: 'off',\n",
       " 231: 'far',\n",
       " 232: 'series',\n",
       " 233: 'kind',\n",
       " 234: 'understand',\n",
       " 235: 'holes',\n",
       " 236: 'where',\n",
       " 237: 'say',\n",
       " 238: 'big',\n",
       " 239: 'enjoyed',\n",
       " 240: 'another',\n",
       " 241: 'quite',\n",
       " 242: 'poor',\n",
       " 243: 'things',\n",
       " 244: 'find',\n",
       " 245: 'mention',\n",
       " 246: 'action',\n",
       " 247: 'old',\n",
       " 248: 'fact',\n",
       " 249: 'amazing',\n",
       " 250: 'day',\n",
       " 251: 'style',\n",
       " 252: 'family',\n",
       " 253: 'especially',\n",
       " 254: 'through',\n",
       " 255: 'use',\n",
       " 256: 'cheap',\n",
       " 257: 'particularly',\n",
       " 258: 'boring',\n",
       " 259: 'throughout',\n",
       " 260: 'believable',\n",
       " 261: 'girl',\n",
       " 262: 'done',\n",
       " 263: 'want',\n",
       " 264: 'history',\n",
       " 265: 'clever',\n",
       " 266: 'editing',\n",
       " 267: 'top',\n",
       " 268: 'avoid',\n",
       " 269: \"i'd\",\n",
       " 270: 'experience',\n",
       " 271: 'am',\n",
       " 272: 'hilarious',\n",
       " 273: 'everyone',\n",
       " 274: 'full',\n",
       " 275: 'money',\n",
       " 276: 'our',\n",
       " 277: 'since',\n",
       " 278: 'mostly',\n",
       " 279: 'lead',\n",
       " 280: 'involved',\n",
       " 281: 'did',\n",
       " 282: 'non',\n",
       " 283: 'second',\n",
       " 284: \"won't\",\n",
       " 285: 'believe',\n",
       " 286: 'crap',\n",
       " 287: 'drama',\n",
       " 288: 'fine',\n",
       " 289: 'fails',\n",
       " 290: 'times',\n",
       " 291: 'job',\n",
       " 292: 'sucked',\n",
       " 293: 'subtle',\n",
       " 294: 'world',\n",
       " 295: 'garbage',\n",
       " 296: 'classic',\n",
       " 297: 'care',\n",
       " 298: 'generally',\n",
       " 299: 'white',\n",
       " 300: 'felt',\n",
       " 301: 'guess',\n",
       " 302: 'audience',\n",
       " 303: 'half',\n",
       " 304: 'end',\n",
       " 305: 'three',\n",
       " 306: 'incredible',\n",
       " 307: 'shot',\n",
       " 308: 'gives',\n",
       " 309: 'used',\n",
       " 310: 'overall',\n",
       " 311: 'solid',\n",
       " 312: 'perhaps',\n",
       " 313: 'parts',\n",
       " 314: 'yet',\n",
       " 315: 'sound',\n",
       " 316: 'take',\n",
       " 317: 'why',\n",
       " 318: \"that's\",\n",
       " 319: 'theater',\n",
       " 320: 'enjoy',\n",
       " 321: 'bit',\n",
       " 322: 'itself',\n",
       " 323: 'depth',\n",
       " 324: 'terrific',\n",
       " 325: 'james',\n",
       " 326: 'budget',\n",
       " 327: 'together',\n",
       " 328: 'talk',\n",
       " 329: 'low',\n",
       " 330: 'beyond',\n",
       " 331: 'suspense',\n",
       " 332: 'thriller',\n",
       " 333: 'completely',\n",
       " 334: 'mean',\n",
       " 335: 'few',\n",
       " 336: 'director',\n",
       " 337: 'ridiculous',\n",
       " 338: 'rent',\n",
       " 339: 'new',\n",
       " 340: 'came',\n",
       " 341: 'said',\n",
       " 342: 'often',\n",
       " 343: 'child',\n",
       " 344: 'making',\n",
       " 345: \"couldn't\",\n",
       " 346: 'written',\n",
       " 347: 'started',\n",
       " 348: 'having',\n",
       " 349: 'small',\n",
       " 350: 'adorable',\n",
       " 351: 'recommended',\n",
       " 352: 'him',\n",
       " 353: 'disappointed',\n",
       " 354: 'works',\n",
       " 355: 'looked',\n",
       " 356: 'away',\n",
       " 357: 'myself',\n",
       " 358: 'memorable',\n",
       " 359: 'john',\n",
       " 360: 'last',\n",
       " 361: 'entire',\n",
       " 362: 'self',\n",
       " 363: 'ray',\n",
       " 364: 'lines',\n",
       " 365: 'hour',\n",
       " 366: 'period',\n",
       " 367: 'pretentious',\n",
       " 368: 'cult',\n",
       " 369: 'brilliant',\n",
       " 370: 'joy',\n",
       " 371: '1',\n",
       " 372: 'chemistry',\n",
       " 373: 'single',\n",
       " 374: 'consider',\n",
       " 375: 'scamp',\n",
       " 376: 'annoying',\n",
       " 377: 'stunning',\n",
       " 378: 'entertaining',\n",
       " 379: 'thinking',\n",
       " 380: 'god',\n",
       " 381: 'seriously',\n",
       " 382: 'oh',\n",
       " 383: \"they're\",\n",
       " 384: 'shots',\n",
       " 385: 'etc',\n",
       " 386: 'awesome',\n",
       " 387: 'utterly',\n",
       " 388: 'convincing',\n",
       " 389: 'attempt',\n",
       " 390: 'possibly',\n",
       " 391: 'turn',\n",
       " 392: 'night',\n",
       " 393: 'appearance',\n",
       " 394: 'wonderfully',\n",
       " 395: 'rest',\n",
       " 396: 'songs',\n",
       " 397: 'themselves',\n",
       " 398: 'portrayal',\n",
       " 399: 'share',\n",
       " 400: 'ups',\n",
       " 401: 'down',\n",
       " 402: 'cool',\n",
       " 403: 'star',\n",
       " 404: 'trash',\n",
       " 405: 'coming',\n",
       " 406: 'conclusion',\n",
       " 407: 'drago',\n",
       " 408: 'dialog',\n",
       " 409: 'barely',\n",
       " 410: 'incredibly',\n",
       " 411: 'thrown',\n",
       " 412: 'unfortunately',\n",
       " 413: 'mickey',\n",
       " 414: 'huge',\n",
       " 415: 'usual',\n",
       " 416: 'hitchcock',\n",
       " 417: 'mature',\n",
       " 418: 'dvd',\n",
       " 419: 'acted',\n",
       " 420: 'keep',\n",
       " 421: \"wasn't\",\n",
       " 422: 'checking',\n",
       " 423: 'close',\n",
       " 424: 'performances',\n",
       " 425: 'whether',\n",
       " 426: 'fans',\n",
       " 427: 'different',\n",
       " 428: 'production',\n",
       " 429: 'values',\n",
       " 430: 'photography',\n",
       " 431: 'casting',\n",
       " 432: 'us',\n",
       " 433: 'rather',\n",
       " 434: 'premise',\n",
       " 435: 'always',\n",
       " 436: 'mind',\n",
       " 437: 'idea',\n",
       " 438: 'got',\n",
       " 439: 'wrong',\n",
       " 440: 'score',\n",
       " 441: 'may',\n",
       " 442: 'talented',\n",
       " 443: 'pathetic',\n",
       " 444: 'anything',\n",
       " 445: 'final',\n",
       " 446: 'complete',\n",
       " 447: 'features',\n",
       " 448: 'eyes',\n",
       " 449: 'before',\n",
       " 450: 'easily',\n",
       " 451: 'cartoon',\n",
       " 452: 'let',\n",
       " 453: 'scenery',\n",
       " 454: 'pure',\n",
       " 455: 'occasionally',\n",
       " 456: 'touching',\n",
       " 457: 'lovely',\n",
       " 458: 'lots',\n",
       " 459: 'nice',\n",
       " 460: 'else',\n",
       " 461: 'massive',\n",
       " 462: 'remember',\n",
       " 463: 'less',\n",
       " 464: 'mediocre',\n",
       " 465: 'pg',\n",
       " 466: 'genuine',\n",
       " 467: 'problems',\n",
       " 468: 'created',\n",
       " 469: 'negative',\n",
       " 470: 'hours',\n",
       " 471: 'strong',\n",
       " 472: 'charming',\n",
       " 473: 'kids',\n",
       " 474: 'graphics',\n",
       " 475: 'play',\n",
       " 476: 'back',\n",
       " 477: 'produced',\n",
       " 478: 'surprisingly',\n",
       " 479: 'under',\n",
       " 480: 'stars',\n",
       " 481: 'slow',\n",
       " 482: 'word',\n",
       " 483: 'whatsoever',\n",
       " 484: 'appreciate',\n",
       " 485: 'plus',\n",
       " 486: 'write',\n",
       " 487: 'thoroughly',\n",
       " 488: 'particular',\n",
       " 489: 'house',\n",
       " 490: 'bore',\n",
       " 491: 'already',\n",
       " 492: 'journey',\n",
       " 493: '90',\n",
       " 494: 'found',\n",
       " 495: 'role',\n",
       " 496: 'same',\n",
       " 497: 'must',\n",
       " 498: 'song',\n",
       " 499: 'emotions',\n",
       " 500: 'tell',\n",
       " 501: 'next',\n",
       " 502: 'including',\n",
       " 503: 'direction',\n",
       " 504: 'silent',\n",
       " 505: 'glad',\n",
       " 506: 'sometimes',\n",
       " 507: 'embarrassing',\n",
       " 508: 'drive',\n",
       " 509: 'stereotypes',\n",
       " 510: 'south',\n",
       " 511: 'follow',\n",
       " 512: 'someone',\n",
       " 513: 'ready',\n",
       " 514: 'unbelievable',\n",
       " 515: 'charles',\n",
       " 516: 'hard',\n",
       " 517: 'soundtrack',\n",
       " 518: 'maybe',\n",
       " 519: 'own',\n",
       " 520: 'race',\n",
       " 521: 'looks',\n",
       " 522: 'exactly',\n",
       " 523: 'rating',\n",
       " 524: 'type',\n",
       " 525: 'angel',\n",
       " 526: 'true',\n",
       " 527: 'become',\n",
       " 528: 'tale',\n",
       " 529: 'issues',\n",
       " 530: 'grace',\n",
       " 531: 'course',\n",
       " 532: 'spoiler',\n",
       " 533: 'attempts',\n",
       " 534: 'bear',\n",
       " 535: 'basically',\n",
       " 536: 'dance',\n",
       " 537: 'male',\n",
       " 538: 'nut',\n",
       " 539: 'fear',\n",
       " 540: 'reason',\n",
       " 541: 'revealing',\n",
       " 542: 'anne',\n",
       " 543: 'surprising',\n",
       " 544: 'hollywood',\n",
       " 545: 'ranks',\n",
       " 546: 'trilogy',\n",
       " 547: 'disturbing',\n",
       " 548: 'memories',\n",
       " 549: 'trying',\n",
       " 550: 'singing',\n",
       " 551: 'lame',\n",
       " 552: 'sure',\n",
       " 553: 'lost',\n",
       " 554: 'whom',\n",
       " 555: 'humorous',\n",
       " 556: 'charm',\n",
       " 557: 'humour',\n",
       " 558: 'notable',\n",
       " 559: 'knew',\n",
       " 560: \"miyazaki's\",\n",
       " 561: 'studio',\n",
       " 562: 'ponyo',\n",
       " 563: 'fun',\n",
       " 564: 'imaginative',\n",
       " 565: 'childhood',\n",
       " 566: 'jamie',\n",
       " 567: 'beginning',\n",
       " 568: 'tom',\n",
       " 569: 'takes',\n",
       " 570: 'matter',\n",
       " 571: 'hand',\n",
       " 572: 'feel',\n",
       " 573: 'suffering',\n",
       " 574: 'actress',\n",
       " 575: 'june',\n",
       " 576: 'impressive',\n",
       " 577: 'effective',\n",
       " 578: '\\x96',\n",
       " 579: 'female',\n",
       " 580: 'hill',\n",
       " 581: 'volcano',\n",
       " 582: 'los',\n",
       " 583: 'angeles',\n",
       " 584: 'nonsense',\n",
       " 585: 'sub',\n",
       " 586: 'working',\n",
       " 587: 'moment',\n",
       " 588: 'plenty',\n",
       " 589: 'plain',\n",
       " 590: 'while',\n",
       " 591: 'something',\n",
       " 592: 'crowd',\n",
       " 593: 'pleaser',\n",
       " 594: 'chance',\n",
       " 595: 'flaws',\n",
       " 596: 'lucy',\n",
       " 597: 'hope',\n",
       " 598: 'gets',\n",
       " 599: 'released',\n",
       " 600: 'interested',\n",
       " 601: 'poetry',\n",
       " 602: 'pleased',\n",
       " 603: 'ability',\n",
       " 604: 'camerawork',\n",
       " 605: 'american',\n",
       " 606: 'twice',\n",
       " 607: 'delivering',\n",
       " 608: 'supposed',\n",
       " 609: 'shed',\n",
       " 610: 'central',\n",
       " 611: 'handled',\n",
       " 612: 'imagination',\n",
       " 613: 'composition',\n",
       " 614: 'brian',\n",
       " 615: 'year',\n",
       " 616: 'adaptation',\n",
       " 617: 'process',\n",
       " 618: 'costs',\n",
       " 619: 'billy',\n",
       " 620: 'note',\n",
       " 621: 'emilio',\n",
       " 622: 'directorial',\n",
       " 623: 'pacing',\n",
       " 624: 'interplay',\n",
       " 625: 'surrounding',\n",
       " 626: 'plays',\n",
       " 627: 'natural',\n",
       " 628: 'average',\n",
       " 629: 'main',\n",
       " 630: 'bought',\n",
       " 631: 'provoking',\n",
       " 632: 'supposedly',\n",
       " 633: 'heard',\n",
       " 634: 'children',\n",
       " 635: 'turned',\n",
       " 636: 'decent',\n",
       " 637: 'b',\n",
       " 638: 'list',\n",
       " 639: 'ways',\n",
       " 640: 'portraying',\n",
       " 641: 'sentiment',\n",
       " 642: 'original',\n",
       " 643: 'terribly',\n",
       " 644: 'places',\n",
       " 645: 'review',\n",
       " 646: 'cute',\n",
       " 647: 'sick',\n",
       " 648: 'despite',\n",
       " 649: 'likes',\n",
       " 650: 'superb',\n",
       " 651: 'fantastic',\n",
       " 652: 'redeeming',\n",
       " 653: 'free',\n",
       " 654: 'location',\n",
       " 655: 'insult',\n",
       " 656: 'intelligence',\n",
       " 657: 'hackneyed',\n",
       " 658: 'contained',\n",
       " 659: \"haven't\",\n",
       " 660: 'none',\n",
       " 661: 'laugh',\n",
       " 662: 'dark',\n",
       " 663: 'ago',\n",
       " 664: 'became',\n",
       " 665: '20',\n",
       " 666: 'age',\n",
       " 667: 'accused',\n",
       " 668: 'focus',\n",
       " 669: 'documentary',\n",
       " 670: 'predictably',\n",
       " 671: 'fx',\n",
       " 672: 'murdered',\n",
       " 673: 'church',\n",
       " 674: 'fan',\n",
       " 675: 'due',\n",
       " 676: 'aside',\n",
       " 677: 'loads',\n",
       " 678: 'level',\n",
       " 679: 'chick',\n",
       " 680: 'book',\n",
       " 681: 'shame',\n",
       " 682: 'computer',\n",
       " 683: 'home',\n",
       " 684: 'result',\n",
       " 685: 'levels',\n",
       " 686: 'meaning',\n",
       " 687: '13',\n",
       " 688: 'sequel',\n",
       " 689: 'extremely',\n",
       " 690: 'looking',\n",
       " 691: 'relationships',\n",
       " 692: 'cover',\n",
       " 693: 'regret',\n",
       " 694: '2',\n",
       " 695: 'recent',\n",
       " 696: 'advise',\n",
       " 697: 'shows',\n",
       " 698: 'ten',\n",
       " 699: 'reviewer',\n",
       " 700: 'called',\n",
       " 701: 'explain',\n",
       " 702: 'junkyard',\n",
       " 703: 'buy',\n",
       " 704: 'comes',\n",
       " 705: 'spoilers',\n",
       " 706: 'crafted',\n",
       " 707: 'picture',\n",
       " 708: 'summary',\n",
       " 709: 'witty',\n",
       " 710: 'actresses',\n",
       " 711: 'freedom',\n",
       " 712: 'start',\n",
       " 713: 'charisma',\n",
       " 714: 'today',\n",
       " 715: 'gave',\n",
       " 716: 'favourite',\n",
       " 717: 'directors',\n",
       " 718: 'friends',\n",
       " 719: 'frightening',\n",
       " 720: 'depressing',\n",
       " 721: 'deserving',\n",
       " 722: 'unconvincing',\n",
       " 723: 'cardboard',\n",
       " 724: 'jean',\n",
       " 725: 'expect',\n",
       " 726: 'disliked',\n",
       " 727: 'lacks',\n",
       " 728: 'empty',\n",
       " 729: 'leave',\n",
       " 730: 'ceases',\n",
       " 731: 'try',\n",
       " 732: 'living',\n",
       " 733: 'hated',\n",
       " 734: \"you'll\",\n",
       " 735: 'screenwriter',\n",
       " 736: 'sum',\n",
       " 737: 'whatever',\n",
       " 738: 'superbly',\n",
       " 739: 'assistant',\n",
       " 740: 'example',\n",
       " 741: 'women',\n",
       " 742: 'wholesome',\n",
       " 743: 'angles',\n",
       " 744: '20th',\n",
       " 745: 'century',\n",
       " 746: 'serious',\n",
       " 747: 'narrative',\n",
       " 748: 'engaging',\n",
       " 749: \"master's\",\n",
       " 750: 'face',\n",
       " 751: 'pictures',\n",
       " 752: \"you'd\",\n",
       " 753: 'soul',\n",
       " 754: 'reality',\n",
       " 755: 'torture',\n",
       " 756: 'turns',\n",
       " 757: 'brief',\n",
       " 758: 'quinn',\n",
       " 759: 'tremendously',\n",
       " 760: 'viewing',\n",
       " 761: 'neil',\n",
       " 762: 'young',\n",
       " 763: 'dreams',\n",
       " 764: 'along',\n",
       " 765: 'remake',\n",
       " 766: 'began',\n",
       " 767: 'spoil',\n",
       " 768: 'dumb',\n",
       " 769: 'excellently',\n",
       " 770: 'sci',\n",
       " 771: 'mouse',\n",
       " 772: 'following',\n",
       " 773: 'crazy',\n",
       " 774: 'goes',\n",
       " 775: 'wish',\n",
       " 776: 'seem',\n",
       " 777: 'modern',\n",
       " 778: 'genius',\n",
       " 779: 'visual',\n",
       " 780: 'roles',\n",
       " 781: 'appealing',\n",
       " 782: 'africa',\n",
       " 783: 'mad',\n",
       " 784: 'bunch',\n",
       " 785: 'possible',\n",
       " 786: 'although',\n",
       " 787: 'ratings',\n",
       " 788: 'clichés',\n",
       " 789: 'moments',\n",
       " 790: 'ask',\n",
       " 791: 'sake',\n",
       " 792: 'core',\n",
       " 793: 'without',\n",
       " 794: 'explanation',\n",
       " 795: 'guys',\n",
       " 796: 'realistic',\n",
       " 797: \"isn't\",\n",
       " 798: 'appalling',\n",
       " 799: 'stanwyck',\n",
       " 800: 'morgan',\n",
       " 801: 'christmas',\n",
       " 802: 'dramatic',\n",
       " 803: 'tension',\n",
       " 804: 'fall',\n",
       " 805: 'took',\n",
       " 806: 'de',\n",
       " 807: 'during',\n",
       " 808: 'faux',\n",
       " 809: 'creates',\n",
       " 810: 'learn',\n",
       " 811: 'whiny',\n",
       " 812: 'underneath',\n",
       " 813: 'recently',\n",
       " 814: 'costumes',\n",
       " 815: 'deserved',\n",
       " 816: 'missed',\n",
       " 817: 'five',\n",
       " 818: 'paid',\n",
       " 819: '50',\n",
       " 820: 'badly',\n",
       " 821: 'noteworthy',\n",
       " 822: 'left',\n",
       " 823: 'step',\n",
       " 824: 'heart',\n",
       " 825: 'human',\n",
       " 826: 'forget',\n",
       " 827: 'macbeth',\n",
       " 828: 'showed',\n",
       " 829: 'horrible',\n",
       " 830: 'lord',\n",
       " 831: \"aren't\",\n",
       " 832: 'previous',\n",
       " 833: 's',\n",
       " 834: 'gonna',\n",
       " 835: 'business',\n",
       " 836: 'come',\n",
       " 837: 'struck',\n",
       " 838: 'frankly',\n",
       " 839: 'dancing',\n",
       " 840: 'brilliance',\n",
       " 841: 'pointless',\n",
       " 842: 'robert',\n",
       " 843: 'father',\n",
       " 844: 'footage',\n",
       " 845: 'words',\n",
       " 846: 'moving',\n",
       " 847: 'ed',\n",
       " 848: 'seems',\n",
       " 849: 'perfect',\n",
       " 850: 'animation',\n",
       " 851: 'stories',\n",
       " 852: 'machine',\n",
       " 853: 'around',\n",
       " 854: 'idiot',\n",
       " 855: 'chilly',\n",
       " 856: 'hollow',\n",
       " 857: 'act',\n",
       " 858: 'earth',\n",
       " 859: 'bored',\n",
       " 860: 'damn',\n",
       " 861: 'ruthless',\n",
       " 862: 'minute',\n",
       " 863: 'happened',\n",
       " 864: 'season',\n",
       " 865: 'moral',\n",
       " 866: 'flawed',\n",
       " 867: 'either',\n",
       " 868: 'opening',\n",
       " 869: 'sequence',\n",
       " 870: 'games',\n",
       " 871: 'form',\n",
       " 872: 'lacked',\n",
       " 873: 'until',\n",
       " 874: 'reactions',\n",
       " 875: 'space',\n",
       " 876: 'fat',\n",
       " 877: 'point',\n",
       " 878: 'mexican',\n",
       " 879: '3',\n",
       " 880: 'several',\n",
       " 881: 'seemed',\n",
       " 882: 'betty',\n",
       " 883: 'owned',\n",
       " 884: 'exquisite',\n",
       " 885: 'filmed',\n",
       " 886: 'greatest',\n",
       " 887: 'smart',\n",
       " 888: 'alexander',\n",
       " 889: 'martin',\n",
       " 890: 'past',\n",
       " 891: 'relations',\n",
       " 892: 'jerky',\n",
       " 893: 'place',\n",
       " 894: 'shakespear',\n",
       " 895: 'above',\n",
       " 896: 'easy',\n",
       " 897: 'wonder',\n",
       " 898: 'cole',\n",
       " 899: 'sisters',\n",
       " 900: 'voice',\n",
       " 901: 'impressed',\n",
       " 902: 'disaster',\n",
       " 903: 'lighting',\n",
       " 904: 'wind',\n",
       " 905: 'lion',\n",
       " 906: 'energy',\n",
       " 907: 'nuts',\n",
       " 908: 'racial',\n",
       " 909: 'high',\n",
       " 910: 'sandra',\n",
       " 911: 'bullock',\n",
       " 912: 'handles',\n",
       " 913: 'tough',\n",
       " 914: 'dignity',\n",
       " 915: 'shocking',\n",
       " 916: 'nonetheless',\n",
       " 917: 'humor',\n",
       " 918: 'pitiful',\n",
       " 919: \"dosen't\",\n",
       " 920: 'involves',\n",
       " 921: 'vulcan',\n",
       " 922: 'stealing',\n",
       " 923: 'enterprise',\n",
       " 924: 'uhura',\n",
       " 925: 'belly',\n",
       " 926: 'distract',\n",
       " 927: 'guards',\n",
       " 928: 'hockey',\n",
       " 929: 'defensemen',\n",
       " 930: '5',\n",
       " 931: 'goalies',\n",
       " 932: 'diving',\n",
       " 933: 'feet',\n",
       " 934: 'wide',\n",
       " 935: 'net',\n",
       " 936: 'call',\n",
       " 937: 'stand',\n",
       " 938: 'losing',\n",
       " 939: 'q',\n",
       " 940: 'heche',\n",
       " 941: '1949',\n",
       " 942: 'collective',\n",
       " 943: 'heads',\n",
       " 944: 'sand',\n",
       " 945: 'concerning',\n",
       " 946: 'interview',\n",
       " 947: 'vampire',\n",
       " 948: 'lestat',\n",
       " 949: 'stuart',\n",
       " 950: 'townsend',\n",
       " 951: \"cruise's\",\n",
       " 952: 'asleep',\n",
       " 953: 'insomniacs',\n",
       " 954: 'scream',\n",
       " 955: 'finale',\n",
       " 956: 'presence',\n",
       " 957: 'animals',\n",
       " 958: 'integration',\n",
       " 959: 'obvious',\n",
       " 960: 'blue',\n",
       " 961: 'green',\n",
       " 962: 'succeeded',\n",
       " 963: 'crayon',\n",
       " 964: 'pencil',\n",
       " 965: 'drawings',\n",
       " 966: 'colorful',\n",
       " 967: 'fanciful',\n",
       " 968: 'sits',\n",
       " 969: 'soldiers',\n",
       " 970: 'masculinity',\n",
       " 971: 'pledge',\n",
       " 972: 'hairsplitting',\n",
       " 973: 'purity',\n",
       " 974: 'admiration',\n",
       " 975: 'swords',\n",
       " 976: 'flat',\n",
       " 977: 'nearly',\n",
       " 978: 'walked',\n",
       " 979: 'hbo',\n",
       " 980: 'comment',\n",
       " 981: '2006',\n",
       " 982: 'warmth',\n",
       " 983: 'northern',\n",
       " 984: 'positive',\n",
       " 985: 'community',\n",
       " 986: 'represents',\n",
       " 987: 'disappointing',\n",
       " 988: 'aspects',\n",
       " 989: 'lack',\n",
       " 990: 'gore',\n",
       " 991: 'hayao',\n",
       " 992: 'latest',\n",
       " 993: 'eighth',\n",
       " 994: 'ghibili',\n",
       " 995: 'gake',\n",
       " 996: 'ue',\n",
       " 997: 'cliff',\n",
       " 998: 'sea',\n",
       " 999: 'jennifer',\n",
       " 1000: 'rubin',\n",
       " ...}"
      ]
     },
     "execution_count": 15,
     "metadata": {},
     "output_type": "execute_result"
    }
   ],
   "source": [
    "# vocabulary\n",
    "tokenizer.index_word"
   ]
  },
  {
   "cell_type": "code",
   "execution_count": 16,
   "metadata": {
    "colab": {
     "base_uri": "https://localhost:8080/"
    },
    "executionInfo": {
     "elapsed": 83,
     "status": "ok",
     "timestamp": 1643775918606,
     "user": {
      "displayName": "Deepak Avhad",
      "photoUrl": "https://lh3.googleusercontent.com/a-/AOh14GhY6x3bmDdXRl6lSqWi0RKwhXwFroevfB4OUaxfwg=s64",
      "userId": "16043617655025119202"
     },
     "user_tz": -330
    },
    "id": "WWvEkgFabeYw",
    "outputId": "dfac1851-26a8-48d7-e15a-8c80ed932c47"
   },
   "outputs": [
    {
     "data": {
      "text/plain": [
       "2486"
      ]
     },
     "execution_count": 16,
     "metadata": {},
     "output_type": "execute_result"
    }
   ],
   "source": [
    "vocab_len = len(tokenizer.index_word)\n",
    "vocab_len"
   ]
  },
  {
   "cell_type": "code",
   "execution_count": 17,
   "metadata": {
    "executionInfo": {
     "elapsed": 50,
     "status": "ok",
     "timestamp": 1643775918607,
     "user": {
      "displayName": "Deepak Avhad",
      "photoUrl": "https://lh3.googleusercontent.com/a-/AOh14GhY6x3bmDdXRl6lSqWi0RKwhXwFroevfB4OUaxfwg=s64",
      "userId": "16043617655025119202"
     },
     "user_tz": -330
    },
    "id": "mfSMkCZbbgsm"
   },
   "outputs": [],
   "source": [
    "# text to sequence\n",
    "train_sequence = tokenizer.texts_to_sequences(X_train)"
   ]
  },
  {
   "cell_type": "code",
   "execution_count": 18,
   "metadata": {
    "executionInfo": {
     "elapsed": 50,
     "status": "ok",
     "timestamp": 1643775918608,
     "user": {
      "displayName": "Deepak Avhad",
      "photoUrl": "https://lh3.googleusercontent.com/a-/AOh14GhY6x3bmDdXRl6lSqWi0RKwhXwFroevfB4OUaxfwg=s64",
      "userId": "16043617655025119202"
     },
     "user_tz": -330
    },
    "id": "OyiNgA1gbkC7"
   },
   "outputs": [],
   "source": [
    "doc_len = []\n",
    "\n",
    "for doc in train_sequence:\n",
    "  doc_len.append(len(doc))"
   ]
  },
  {
   "cell_type": "code",
   "execution_count": 19,
   "metadata": {
    "colab": {
     "base_uri": "https://localhost:8080/"
    },
    "executionInfo": {
     "elapsed": 51,
     "status": "ok",
     "timestamp": 1643775918608,
     "user": {
      "displayName": "Deepak Avhad",
      "photoUrl": "https://lh3.googleusercontent.com/a-/AOh14GhY6x3bmDdXRl6lSqWi0RKwhXwFroevfB4OUaxfwg=s64",
      "userId": "16043617655025119202"
     },
     "user_tz": -330
    },
    "id": "uW2EKNUabm01",
    "outputId": "34170c40-db98-4655-f2ea-dd509c4d1764"
   },
   "outputs": [
    {
     "data": {
      "text/plain": [
       "69"
      ]
     },
     "execution_count": 19,
     "metadata": {},
     "output_type": "execute_result"
    }
   ],
   "source": [
    "max(doc_len)"
   ]
  },
  {
   "cell_type": "code",
   "execution_count": 20,
   "metadata": {
    "colab": {
     "base_uri": "https://localhost:8080/"
    },
    "executionInfo": {
     "elapsed": 46,
     "status": "ok",
     "timestamp": 1643775918609,
     "user": {
      "displayName": "Deepak Avhad",
      "photoUrl": "https://lh3.googleusercontent.com/a-/AOh14GhY6x3bmDdXRl6lSqWi0RKwhXwFroevfB4OUaxfwg=s64",
      "userId": "16043617655025119202"
     },
     "user_tz": -330
    },
    "id": "OIKkNDa3bo4D",
    "outputId": "13253167-5232-41a6-ebef-61a056b4f821"
   },
   "outputs": [
    {
     "data": {
      "text/plain": [
       "45.0"
      ]
     },
     "execution_count": 20,
     "metadata": {},
     "output_type": "execute_result"
    }
   ],
   "source": [
    "np.quantile(doc_len, 0.99)"
   ]
  },
  {
   "cell_type": "code",
   "execution_count": 21,
   "metadata": {
    "executionInfo": {
     "elapsed": 42,
     "status": "ok",
     "timestamp": 1643775918609,
     "user": {
      "displayName": "Deepak Avhad",
      "photoUrl": "https://lh3.googleusercontent.com/a-/AOh14GhY6x3bmDdXRl6lSqWi0RKwhXwFroevfB4OUaxfwg=s64",
      "userId": "16043617655025119202"
     },
     "user_tz": -330
    },
    "id": "Ce2oTiF2bqxP"
   },
   "outputs": [],
   "source": [
    "max_length = 45"
   ]
  },
  {
   "cell_type": "code",
   "execution_count": 22,
   "metadata": {
    "colab": {
     "base_uri": "https://localhost:8080/"
    },
    "executionInfo": {
     "elapsed": 42,
     "status": "ok",
     "timestamp": 1643775918610,
     "user": {
      "displayName": "Deepak Avhad",
      "photoUrl": "https://lh3.googleusercontent.com/a-/AOh14GhY6x3bmDdXRl6lSqWi0RKwhXwFroevfB4OUaxfwg=s64",
      "userId": "16043617655025119202"
     },
     "user_tz": -330
    },
    "id": "UTp_7RDKbtaW",
    "outputId": "3aefa061-0a5e-448c-fa4e-b2723587c75e"
   },
   "outputs": [
    {
     "data": {
      "text/plain": [
       "array([[  0,   0,   0, ..., 915, 532, 102],\n",
       "       [  0,   0,   0, ...,   3, 377,  12],\n",
       "       [  0,   0,   0, ...,   5, 378, 916],\n",
       "       ...,\n",
       "       [  0,   0,   0, ...,   3,  85,  12],\n",
       "       [  0,   0,   0, ...,  20,   2,  20],\n",
       "       [  0,   0,   0, ...,  22, 454, 840]], dtype=int32)"
      ]
     },
     "execution_count": 22,
     "metadata": {},
     "output_type": "execute_result"
    }
   ],
   "source": [
    "# padding\n",
    "train_matrix = sequence.pad_sequences(train_sequence,max_length)\n",
    "train_matrix"
   ]
  },
  {
   "cell_type": "code",
   "execution_count": 23,
   "metadata": {
    "colab": {
     "base_uri": "https://localhost:8080/"
    },
    "executionInfo": {
     "elapsed": 37,
     "status": "ok",
     "timestamp": 1643775918610,
     "user": {
      "displayName": "Deepak Avhad",
      "photoUrl": "https://lh3.googleusercontent.com/a-/AOh14GhY6x3bmDdXRl6lSqWi0RKwhXwFroevfB4OUaxfwg=s64",
      "userId": "16043617655025119202"
     },
     "user_tz": -330
    },
    "id": "WkmRM_gNbwTK",
    "outputId": "05cac949-e3f2-4edb-b111-65d0ed746892"
   },
   "outputs": [
    {
     "data": {
      "text/plain": [
       "array([[  0,   0,   0, ...,   3, 388, 111],\n",
       "       [  0,   0,   0, ...,   9, 101,  77],\n",
       "       [  0,   0,   0, ...,  42,  35,  15],\n",
       "       ...,\n",
       "       [  0,   0,   0, ...,   3,  35, 222],\n",
       "       [  0,   0,   0, ...,  22,  23, 551],\n",
       "       [  0,   0,   0, ...,  12,   5, 128]], dtype=int32)"
      ]
     },
     "execution_count": 23,
     "metadata": {},
     "output_type": "execute_result"
    }
   ],
   "source": [
    "# test data\n",
    "test_sequence = tokenizer.texts_to_sequences(X_test)\n",
    "test_matrix = sequence.pad_sequences(test_sequence,max_length)\n",
    "test_matrix"
   ]
  },
  {
   "cell_type": "markdown",
   "metadata": {
    "id": "uZdn7K68sXYf"
   },
   "source": [
    "##RNN"
   ]
  },
  {
   "cell_type": "code",
   "execution_count": 24,
   "metadata": {
    "executionInfo": {
     "elapsed": 611,
     "status": "ok",
     "timestamp": 1643775919188,
     "user": {
      "displayName": "Deepak Avhad",
      "photoUrl": "https://lh3.googleusercontent.com/a-/AOh14GhY6x3bmDdXRl6lSqWi0RKwhXwFroevfB4OUaxfwg=s64",
      "userId": "16043617655025119202"
     },
     "user_tz": -330
    },
    "id": "lfx0Lyxhb0K6"
   },
   "outputs": [],
   "source": [
    "model = Sequential()\n",
    "model.add(Embedding( input_dim=vocab_len+1,\n",
    "                     output_dim=64,\n",
    "                     input_length=max_length,\n",
    "                     mask_zero=True))\n",
    "model.add(SimpleRNN(64))\n",
    "model.add(Dense(64, activation=\"relu\"))\n",
    "model.add(Dense(32, activation=\"relu\"))\n",
    "model.add(Dense(1, activation=\"sigmoid\"))"
   ]
  },
  {
   "cell_type": "code",
   "execution_count": 25,
   "metadata": {
    "colab": {
     "base_uri": "https://localhost:8080/"
    },
    "executionInfo": {
     "elapsed": 6440,
     "status": "ok",
     "timestamp": 1643775925624,
     "user": {
      "displayName": "Deepak Avhad",
      "photoUrl": "https://lh3.googleusercontent.com/a-/AOh14GhY6x3bmDdXRl6lSqWi0RKwhXwFroevfB4OUaxfwg=s64",
      "userId": "16043617655025119202"
     },
     "user_tz": -330
    },
    "id": "aczGWx-yfNL_",
    "outputId": "819af80e-c609-4e89-98e7-2a37b2741314"
   },
   "outputs": [
    {
     "name": "stdout",
     "output_type": "stream",
     "text": [
      "Epoch 1/10\n",
      "6/6 [==============================] - 4s 72ms/step - loss: 0.6932\n",
      "Epoch 2/10\n",
      "6/6 [==============================] - 0s 58ms/step - loss: 0.6539\n",
      "Epoch 3/10\n",
      "6/6 [==============================] - 0s 64ms/step - loss: 0.5994\n",
      "Epoch 4/10\n",
      "6/6 [==============================] - 0s 63ms/step - loss: 0.4875\n",
      "Epoch 5/10\n",
      "6/6 [==============================] - 0s 58ms/step - loss: 0.3199\n",
      "Epoch 6/10\n",
      "6/6 [==============================] - 0s 55ms/step - loss: 0.1647\n",
      "Epoch 7/10\n",
      "6/6 [==============================] - 0s 67ms/step - loss: 0.0803\n",
      "Epoch 8/10\n",
      "6/6 [==============================] - 0s 67ms/step - loss: 0.0385\n",
      "Epoch 9/10\n",
      "6/6 [==============================] - 0s 62ms/step - loss: 0.0212\n",
      "Epoch 10/10\n",
      "6/6 [==============================] - 0s 68ms/step - loss: 0.0122\n"
     ]
    },
    {
     "data": {
      "text/plain": [
       "<keras.callbacks.History at 0x7fb70aadc3d0>"
      ]
     },
     "execution_count": 25,
     "metadata": {},
     "output_type": "execute_result"
    }
   ],
   "source": [
    "model.compile(optimizer=\"adam\",loss=\"binary_crossentropy\")\n",
    "model.fit(train_matrix,y_train,epochs=10,batch_size=128)"
   ]
  },
  {
   "cell_type": "code",
   "execution_count": 26,
   "metadata": {
    "executionInfo": {
     "elapsed": 768,
     "status": "ok",
     "timestamp": 1643775926374,
     "user": {
      "displayName": "Deepak Avhad",
      "photoUrl": "https://lh3.googleusercontent.com/a-/AOh14GhY6x3bmDdXRl6lSqWi0RKwhXwFroevfB4OUaxfwg=s64",
      "userId": "16043617655025119202"
     },
     "user_tz": -330
    },
    "id": "eivSITyLfPrG"
   },
   "outputs": [],
   "source": [
    "y_pred = model.predict(test_matrix)"
   ]
  },
  {
   "cell_type": "code",
   "execution_count": 27,
   "metadata": {
    "executionInfo": {
     "elapsed": 7,
     "status": "ok",
     "timestamp": 1643775926375,
     "user": {
      "displayName": "Deepak Avhad",
      "photoUrl": "https://lh3.googleusercontent.com/a-/AOh14GhY6x3bmDdXRl6lSqWi0RKwhXwFroevfB4OUaxfwg=s64",
      "userId": "16043617655025119202"
     },
     "user_tz": -330
    },
    "id": "K3J3WrgffWTE"
   },
   "outputs": [],
   "source": [
    "y_pred = np.where(y_pred >= 0.5, 1, 0)"
   ]
  },
  {
   "cell_type": "code",
   "execution_count": 28,
   "metadata": {
    "colab": {
     "base_uri": "https://localhost:8080/"
    },
    "executionInfo": {
     "elapsed": 8,
     "status": "ok",
     "timestamp": 1643775926376,
     "user": {
      "displayName": "Deepak Avhad",
      "photoUrl": "https://lh3.googleusercontent.com/a-/AOh14GhY6x3bmDdXRl6lSqWi0RKwhXwFroevfB4OUaxfwg=s64",
      "userId": "16043617655025119202"
     },
     "user_tz": -330
    },
    "id": "2sJ8-Fi2fYpd",
    "outputId": "46a80284-025b-47c9-fe9f-6d89533f2bec"
   },
   "outputs": [
    {
     "name": "stdout",
     "output_type": "stream",
     "text": [
      "              precision    recall  f1-score   support\n",
      "\n",
      "           0       0.57      0.60      0.58       151\n",
      "           1       0.57      0.54      0.55       149\n",
      "\n",
      "    accuracy                           0.57       300\n",
      "   macro avg       0.57      0.57      0.57       300\n",
      "weighted avg       0.57      0.57      0.57       300\n",
      "\n"
     ]
    }
   ],
   "source": [
    "print(classification_report(y_test,y_pred))"
   ]
  },
  {
   "cell_type": "markdown",
   "metadata": {
    "id": "wcUBqAGGezyy"
   },
   "source": [
    "## Multi-layer RNN"
   ]
  },
  {
   "cell_type": "code",
   "execution_count": 29,
   "metadata": {
    "executionInfo": {
     "elapsed": 675,
     "status": "ok",
     "timestamp": 1643775927046,
     "user": {
      "displayName": "Deepak Avhad",
      "photoUrl": "https://lh3.googleusercontent.com/a-/AOh14GhY6x3bmDdXRl6lSqWi0RKwhXwFroevfB4OUaxfwg=s64",
      "userId": "16043617655025119202"
     },
     "user_tz": -330
    },
    "id": "0bv7UGSvfbQJ"
   },
   "outputs": [],
   "source": [
    "model1 = Sequential()\n",
    "model1.add(Embedding( input_dim=vocab_len+1,\n",
    "                     output_dim=64,\n",
    "                     input_length=max_length,\n",
    "                     mask_zero=True))\n",
    "model1.add(SimpleRNN(64, return_sequences=True))\n",
    "model1.add(SimpleRNN(64, return_sequences=True))\n",
    "model1.add(SimpleRNN(64))\n",
    "model1.add(Dense(64, activation=\"relu\"))\n",
    "model1.add(Dense(32, activation=\"relu\"))\n",
    "model1.add(Dense(1, activation=\"sigmoid\"))"
   ]
  },
  {
   "cell_type": "code",
   "execution_count": 30,
   "metadata": {
    "colab": {
     "base_uri": "https://localhost:8080/"
    },
    "executionInfo": {
     "elapsed": 28558,
     "status": "ok",
     "timestamp": 1643775955599,
     "user": {
      "displayName": "Deepak Avhad",
      "photoUrl": "https://lh3.googleusercontent.com/a-/AOh14GhY6x3bmDdXRl6lSqWi0RKwhXwFroevfB4OUaxfwg=s64",
      "userId": "16043617655025119202"
     },
     "user_tz": -330
    },
    "id": "tmxtfnAze67P",
    "outputId": "10a10969-7cef-4773-adc6-1e419dca070e"
   },
   "outputs": [
    {
     "name": "stdout",
     "output_type": "stream",
     "text": [
      "Epoch 1/10\n",
      "22/22 [==============================] - 9s 103ms/step - loss: 0.6997\n",
      "Epoch 2/10\n",
      "22/22 [==============================] - 2s 110ms/step - loss: 0.5184\n",
      "Epoch 3/10\n",
      "22/22 [==============================] - 3s 120ms/step - loss: 0.2296\n",
      "Epoch 4/10\n",
      "22/22 [==============================] - 2s 111ms/step - loss: 0.0728\n",
      "Epoch 5/10\n",
      "22/22 [==============================] - 3s 122ms/step - loss: 0.0220\n",
      "Epoch 6/10\n",
      "22/22 [==============================] - 3s 120ms/step - loss: 0.0094\n",
      "Epoch 7/10\n",
      "22/22 [==============================] - 2s 94ms/step - loss: 0.0107\n",
      "Epoch 8/10\n",
      "22/22 [==============================] - 1s 55ms/step - loss: 0.0030\n",
      "Epoch 9/10\n",
      "22/22 [==============================] - 1s 55ms/step - loss: 0.0023\n",
      "Epoch 10/10\n",
      "22/22 [==============================] - 1s 57ms/step - loss: 0.0020\n"
     ]
    },
    {
     "data": {
      "text/plain": [
       "<keras.callbacks.History at 0x7fb707eba150>"
      ]
     },
     "execution_count": 30,
     "metadata": {},
     "output_type": "execute_result"
    }
   ],
   "source": [
    "model1.compile(optimizer=\"adam\",loss=\"binary_crossentropy\")\n",
    "model1.fit(train_matrix,y_train,epochs=10,batch_size=32)"
   ]
  },
  {
   "cell_type": "code",
   "execution_count": 31,
   "metadata": {
    "executionInfo": {
     "elapsed": 645,
     "status": "ok",
     "timestamp": 1643775956229,
     "user": {
      "displayName": "Deepak Avhad",
      "photoUrl": "https://lh3.googleusercontent.com/a-/AOh14GhY6x3bmDdXRl6lSqWi0RKwhXwFroevfB4OUaxfwg=s64",
      "userId": "16043617655025119202"
     },
     "user_tz": -330
    },
    "id": "PqVt7E0ke_G7"
   },
   "outputs": [],
   "source": [
    "y_pred = model1.predict(test_matrix)"
   ]
  },
  {
   "cell_type": "code",
   "execution_count": 32,
   "metadata": {
    "executionInfo": {
     "elapsed": 6,
     "status": "ok",
     "timestamp": 1643775956229,
     "user": {
      "displayName": "Deepak Avhad",
      "photoUrl": "https://lh3.googleusercontent.com/a-/AOh14GhY6x3bmDdXRl6lSqWi0RKwhXwFroevfB4OUaxfwg=s64",
      "userId": "16043617655025119202"
     },
     "user_tz": -330
    },
    "id": "h-k8ktz8fFjb"
   },
   "outputs": [],
   "source": [
    "y_pred = np.where(y_pred >= 0.5, 1, 0)"
   ]
  },
  {
   "cell_type": "code",
   "execution_count": 33,
   "metadata": {
    "colab": {
     "base_uri": "https://localhost:8080/"
    },
    "executionInfo": {
     "elapsed": 6,
     "status": "ok",
     "timestamp": 1643775956230,
     "user": {
      "displayName": "Deepak Avhad",
      "photoUrl": "https://lh3.googleusercontent.com/a-/AOh14GhY6x3bmDdXRl6lSqWi0RKwhXwFroevfB4OUaxfwg=s64",
      "userId": "16043617655025119202"
     },
     "user_tz": -330
    },
    "id": "gwFqD_xdfI_D",
    "outputId": "9b1f5e9d-7d99-4562-b490-1184cd64dcd9"
   },
   "outputs": [
    {
     "name": "stdout",
     "output_type": "stream",
     "text": [
      "              precision    recall  f1-score   support\n",
      "\n",
      "           0       0.54      0.61      0.57       151\n",
      "           1       0.55      0.48      0.51       149\n",
      "\n",
      "    accuracy                           0.54       300\n",
      "   macro avg       0.54      0.54      0.54       300\n",
      "weighted avg       0.54      0.54      0.54       300\n",
      "\n"
     ]
    }
   ],
   "source": [
    "print(classification_report(y_test,y_pred))"
   ]
  },
  {
   "cell_type": "markdown",
   "metadata": {
    "id": "ahBbd39egdgp"
   },
   "source": [
    "##Bidirectional RNN"
   ]
  },
  {
   "cell_type": "code",
   "execution_count": 34,
   "metadata": {
    "executionInfo": {
     "elapsed": 6,
     "status": "ok",
     "timestamp": 1643775956231,
     "user": {
      "displayName": "Deepak Avhad",
      "photoUrl": "https://lh3.googleusercontent.com/a-/AOh14GhY6x3bmDdXRl6lSqWi0RKwhXwFroevfB4OUaxfwg=s64",
      "userId": "16043617655025119202"
     },
     "user_tz": -330
    },
    "id": "SLBkJDz2fLSb"
   },
   "outputs": [],
   "source": [
    "model2 = Sequential()\n",
    "model2.add(Embedding( input_dim=vocab_len+1,\n",
    "                     output_dim=64,\n",
    "                     input_length=max_length,\n",
    "                     mask_zero=True))\n",
    "model2.add(Bidirectional(SimpleRNN(64)))\n",
    "model2.add(Dense(64, activation=\"relu\"))\n",
    "model2.add(Dense(32, activation=\"relu\"))\n",
    "model2.add(Dense(1, activation=\"sigmoid\"))"
   ]
  },
  {
   "cell_type": "code",
   "execution_count": 35,
   "metadata": {
    "colab": {
     "base_uri": "https://localhost:8080/"
    },
    "executionInfo": {
     "elapsed": 10528,
     "status": "ok",
     "timestamp": 1643775966754,
     "user": {
      "displayName": "Deepak Avhad",
      "photoUrl": "https://lh3.googleusercontent.com/a-/AOh14GhY6x3bmDdXRl6lSqWi0RKwhXwFroevfB4OUaxfwg=s64",
      "userId": "16043617655025119202"
     },
     "user_tz": -330
    },
    "id": "qwHXqdfoiauD",
    "outputId": "76764556-ef54-42d7-e939-a8b678647ea9"
   },
   "outputs": [
    {
     "name": "stdout",
     "output_type": "stream",
     "text": [
      "Epoch 1/10\n",
      "22/22 [==============================] - 3s 38ms/step - loss: 0.6947\n",
      "Epoch 2/10\n",
      "22/22 [==============================] - 1s 37ms/step - loss: 0.6085\n",
      "Epoch 3/10\n",
      "22/22 [==============================] - 1s 38ms/step - loss: 0.3099\n",
      "Epoch 4/10\n",
      "22/22 [==============================] - 1s 36ms/step - loss: 0.0920\n",
      "Epoch 5/10\n",
      "22/22 [==============================] - 1s 38ms/step - loss: 0.0370\n",
      "Epoch 6/10\n",
      "22/22 [==============================] - 1s 38ms/step - loss: 0.0377\n",
      "Epoch 7/10\n",
      "22/22 [==============================] - 1s 37ms/step - loss: 0.0330\n",
      "Epoch 8/10\n",
      "22/22 [==============================] - 1s 37ms/step - loss: 0.0177\n",
      "Epoch 9/10\n",
      "22/22 [==============================] - 1s 37ms/step - loss: 0.0061\n",
      "Epoch 10/10\n",
      "22/22 [==============================] - 1s 37ms/step - loss: 0.0034\n"
     ]
    },
    {
     "data": {
      "text/plain": [
       "<keras.callbacks.History at 0x7fb70708b9d0>"
      ]
     },
     "execution_count": 35,
     "metadata": {},
     "output_type": "execute_result"
    }
   ],
   "source": [
    "model2.compile(optimizer=\"adam\",loss=\"binary_crossentropy\")\n",
    "model2.fit(train_matrix,y_train,epochs=10,batch_size=32)"
   ]
  },
  {
   "cell_type": "code",
   "execution_count": 36,
   "metadata": {
    "executionInfo": {
     "elapsed": 907,
     "status": "ok",
     "timestamp": 1643775967647,
     "user": {
      "displayName": "Deepak Avhad",
      "photoUrl": "https://lh3.googleusercontent.com/a-/AOh14GhY6x3bmDdXRl6lSqWi0RKwhXwFroevfB4OUaxfwg=s64",
      "userId": "16043617655025119202"
     },
     "user_tz": -330
    },
    "id": "MUgWMahfihHR"
   },
   "outputs": [],
   "source": [
    "y_pred = model2.predict(test_matrix)"
   ]
  },
  {
   "cell_type": "code",
   "execution_count": 37,
   "metadata": {
    "executionInfo": {
     "elapsed": 13,
     "status": "ok",
     "timestamp": 1643775967648,
     "user": {
      "displayName": "Deepak Avhad",
      "photoUrl": "https://lh3.googleusercontent.com/a-/AOh14GhY6x3bmDdXRl6lSqWi0RKwhXwFroevfB4OUaxfwg=s64",
      "userId": "16043617655025119202"
     },
     "user_tz": -330
    },
    "id": "U2mg_yeGikcj"
   },
   "outputs": [],
   "source": [
    "y_pred = np.where(y_pred >= 0.5, 1, 0)"
   ]
  },
  {
   "cell_type": "code",
   "execution_count": 38,
   "metadata": {
    "colab": {
     "base_uri": "https://localhost:8080/"
    },
    "executionInfo": {
     "elapsed": 13,
     "status": "ok",
     "timestamp": 1643775967649,
     "user": {
      "displayName": "Deepak Avhad",
      "photoUrl": "https://lh3.googleusercontent.com/a-/AOh14GhY6x3bmDdXRl6lSqWi0RKwhXwFroevfB4OUaxfwg=s64",
      "userId": "16043617655025119202"
     },
     "user_tz": -330
    },
    "id": "A2wPCeNuinLc",
    "outputId": "6da125df-d03c-4cf7-99b6-f96994a1f24c"
   },
   "outputs": [
    {
     "name": "stdout",
     "output_type": "stream",
     "text": [
      "              precision    recall  f1-score   support\n",
      "\n",
      "           0       0.61      0.53      0.57       151\n",
      "           1       0.58      0.66      0.62       149\n",
      "\n",
      "    accuracy                           0.59       300\n",
      "   macro avg       0.60      0.59      0.59       300\n",
      "weighted avg       0.60      0.59      0.59       300\n",
      "\n"
     ]
    }
   ],
   "source": [
    "print(classification_report(y_test,y_pred))"
   ]
  },
  {
   "cell_type": "markdown",
   "metadata": {
    "id": "7YKpusxFr1ma"
   },
   "source": [
    "##LSTM"
   ]
  },
  {
   "cell_type": "code",
   "execution_count": 39,
   "metadata": {
    "executionInfo": {
     "elapsed": 3041,
     "status": "ok",
     "timestamp": 1643776048116,
     "user": {
      "displayName": "Deepak Avhad",
      "photoUrl": "https://lh3.googleusercontent.com/a-/AOh14GhY6x3bmDdXRl6lSqWi0RKwhXwFroevfB4OUaxfwg=s64",
      "userId": "16043617655025119202"
     },
     "user_tz": -330
    },
    "id": "NXEiSAbSio-j"
   },
   "outputs": [],
   "source": [
    "model3 = Sequential()\n",
    "model3.add(Embedding( input_dim=vocab_len+1,\n",
    "                     output_dim=64,\n",
    "                     input_length=max_length,\n",
    "                     mask_zero=True))\n",
    "model3.add(LSTM(64))\n",
    "model3.add(Dense(64, activation=\"relu\"))\n",
    "model3.add(Dense(32, activation=\"relu\"))\n",
    "model3.add(Dense(1, activation=\"sigmoid\"))"
   ]
  },
  {
   "cell_type": "code",
   "execution_count": 40,
   "metadata": {
    "colab": {
     "base_uri": "https://localhost:8080/"
    },
    "executionInfo": {
     "elapsed": 27760,
     "status": "ok",
     "timestamp": 1643776086613,
     "user": {
      "displayName": "Deepak Avhad",
      "photoUrl": "https://lh3.googleusercontent.com/a-/AOh14GhY6x3bmDdXRl6lSqWi0RKwhXwFroevfB4OUaxfwg=s64",
      "userId": "16043617655025119202"
     },
     "user_tz": -330
    },
    "id": "GRnmALKDr-w8",
    "outputId": "206d1238-e935-43d4-a70c-4cf46f9f8b63"
   },
   "outputs": [
    {
     "name": "stdout",
     "output_type": "stream",
     "text": [
      "Epoch 1/10\n",
      "22/22 [==============================] - 9s 62ms/step - loss: 0.6926\n",
      "Epoch 2/10\n",
      "22/22 [==============================] - 1s 63ms/step - loss: 0.6525\n",
      "Epoch 3/10\n",
      "22/22 [==============================] - 2s 71ms/step - loss: 0.3704\n",
      "Epoch 4/10\n",
      "22/22 [==============================] - 2s 71ms/step - loss: 0.1381\n",
      "Epoch 5/10\n",
      "22/22 [==============================] - 2s 70ms/step - loss: 0.0516\n",
      "Epoch 6/10\n",
      "22/22 [==============================] - 2s 68ms/step - loss: 0.0204\n",
      "Epoch 7/10\n",
      "22/22 [==============================] - 1s 59ms/step - loss: 0.0138\n",
      "Epoch 8/10\n",
      "22/22 [==============================] - 1s 62ms/step - loss: 0.0105\n",
      "Epoch 9/10\n",
      "22/22 [==============================] - 1s 69ms/step - loss: 0.0053\n",
      "Epoch 10/10\n",
      "22/22 [==============================] - 2s 69ms/step - loss: 0.0035\n"
     ]
    },
    {
     "data": {
      "text/plain": [
       "<keras.callbacks.History at 0x7fb707ebab10>"
      ]
     },
     "execution_count": 40,
     "metadata": {},
     "output_type": "execute_result"
    }
   ],
   "source": [
    "model3.compile(optimizer=\"adam\",loss=\"binary_crossentropy\")\n",
    "model3.fit(train_matrix,y_train,epochs=10,batch_size=32)"
   ]
  },
  {
   "cell_type": "code",
   "execution_count": 41,
   "metadata": {
    "executionInfo": {
     "elapsed": 1462,
     "status": "ok",
     "timestamp": 1643776088056,
     "user": {
      "displayName": "Deepak Avhad",
      "photoUrl": "https://lh3.googleusercontent.com/a-/AOh14GhY6x3bmDdXRl6lSqWi0RKwhXwFroevfB4OUaxfwg=s64",
      "userId": "16043617655025119202"
     },
     "user_tz": -330
    },
    "id": "Oeo-Ix-wsCHy"
   },
   "outputs": [],
   "source": [
    "y_pred = model3.predict(test_matrix)"
   ]
  },
  {
   "cell_type": "code",
   "execution_count": 42,
   "metadata": {
    "executionInfo": {
     "elapsed": 6,
     "status": "ok",
     "timestamp": 1643776088057,
     "user": {
      "displayName": "Deepak Avhad",
      "photoUrl": "https://lh3.googleusercontent.com/a-/AOh14GhY6x3bmDdXRl6lSqWi0RKwhXwFroevfB4OUaxfwg=s64",
      "userId": "16043617655025119202"
     },
     "user_tz": -330
    },
    "id": "gw8-KQlUsEW_"
   },
   "outputs": [],
   "source": [
    "y_pred = np.where(y_pred >= 0.5, 1, 0)"
   ]
  },
  {
   "cell_type": "code",
   "execution_count": 43,
   "metadata": {
    "colab": {
     "base_uri": "https://localhost:8080/"
    },
    "executionInfo": {
     "elapsed": 7,
     "status": "ok",
     "timestamp": 1643776089973,
     "user": {
      "displayName": "Deepak Avhad",
      "photoUrl": "https://lh3.googleusercontent.com/a-/AOh14GhY6x3bmDdXRl6lSqWi0RKwhXwFroevfB4OUaxfwg=s64",
      "userId": "16043617655025119202"
     },
     "user_tz": -330
    },
    "id": "0xysk4FEsGy9",
    "outputId": "9550d5b9-191e-4060-f212-57fd68107352"
   },
   "outputs": [
    {
     "name": "stdout",
     "output_type": "stream",
     "text": [
      "              precision    recall  f1-score   support\n",
      "\n",
      "           0       0.80      0.74      0.77       151\n",
      "           1       0.75      0.82      0.78       149\n",
      "\n",
      "    accuracy                           0.78       300\n",
      "   macro avg       0.78      0.78      0.78       300\n",
      "weighted avg       0.78      0.78      0.78       300\n",
      "\n"
     ]
    }
   ],
   "source": [
    "print(classification_report(y_test,y_pred))"
   ]
  },
  {
   "cell_type": "markdown",
   "metadata": {
    "id": "cysAc9N4tFfu"
   },
   "source": [
    "#Multidimentional LSTM"
   ]
  },
  {
   "cell_type": "code",
   "execution_count": 44,
   "metadata": {
    "executionInfo": {
     "elapsed": 3669,
     "status": "ok",
     "timestamp": 1643776444652,
     "user": {
      "displayName": "Deepak Avhad",
      "photoUrl": "https://lh3.googleusercontent.com/a-/AOh14GhY6x3bmDdXRl6lSqWi0RKwhXwFroevfB4OUaxfwg=s64",
      "userId": "16043617655025119202"
     },
     "user_tz": -330
    },
    "id": "NhYnt0F8sJye"
   },
   "outputs": [],
   "source": [
    "model4 = Sequential()\n",
    "model4.add(Embedding( input_dim=vocab_len+1,\n",
    "                     output_dim=64,\n",
    "                     input_length=max_length,\n",
    "                     mask_zero=True))\n",
    "model4.add(LSTM(64, return_sequences=True))\n",
    "model4.add(LSTM(64, return_sequences=True))\n",
    "model4.add(LSTM(64))\n",
    "model4.add(Dense(64, activation=\"relu\"))\n",
    "model4.add(Dense(32, activation=\"relu\"))\n",
    "model4.add(Dense(1, activation=\"sigmoid\"))"
   ]
  },
  {
   "cell_type": "code",
   "execution_count": 45,
   "metadata": {
    "colab": {
     "base_uri": "https://localhost:8080/"
    },
    "executionInfo": {
     "elapsed": 45483,
     "status": "ok",
     "timestamp": 1643776490129,
     "user": {
      "displayName": "Deepak Avhad",
      "photoUrl": "https://lh3.googleusercontent.com/a-/AOh14GhY6x3bmDdXRl6lSqWi0RKwhXwFroevfB4OUaxfwg=s64",
      "userId": "16043617655025119202"
     },
     "user_tz": -330
    },
    "id": "UcPgH-9es6_o",
    "outputId": "d11b0b3d-2034-451f-9200-ab6cb8571f8b"
   },
   "outputs": [
    {
     "name": "stdout",
     "output_type": "stream",
     "text": [
      "Epoch 1/10\n",
      "22/22 [==============================] - 15s 109ms/step - loss: 0.6932\n",
      "Epoch 2/10\n",
      "22/22 [==============================] - 2s 108ms/step - loss: 0.6433\n",
      "Epoch 3/10\n",
      "22/22 [==============================] - 2s 110ms/step - loss: 0.3348\n",
      "Epoch 4/10\n",
      "22/22 [==============================] - 3s 125ms/step - loss: 0.1732\n",
      "Epoch 5/10\n",
      "22/22 [==============================] - 5s 217ms/step - loss: 0.0987\n",
      "Epoch 6/10\n",
      "22/22 [==============================] - 3s 143ms/step - loss: 0.0473\n",
      "Epoch 7/10\n",
      "22/22 [==============================] - 4s 172ms/step - loss: 0.0290\n",
      "Epoch 8/10\n",
      "22/22 [==============================] - 4s 192ms/step - loss: 0.0213\n",
      "Epoch 9/10\n",
      "22/22 [==============================] - 5s 223ms/step - loss: 0.0150\n",
      "Epoch 10/10\n",
      "22/22 [==============================] - 2s 110ms/step - loss: 0.0048\n"
     ]
    },
    {
     "data": {
      "text/plain": [
       "<keras.callbacks.History at 0x7fb702c41bd0>"
      ]
     },
     "execution_count": 45,
     "metadata": {},
     "output_type": "execute_result"
    }
   ],
   "source": [
    "model4.compile(optimizer=\"adam\",loss=\"binary_crossentropy\")\n",
    "model4.fit(train_matrix,y_train,epochs=10,batch_size=32)"
   ]
  },
  {
   "cell_type": "code",
   "execution_count": 49,
   "metadata": {
    "executionInfo": {
     "elapsed": 4786,
     "status": "ok",
     "timestamp": 1643776512920,
     "user": {
      "displayName": "Deepak Avhad",
      "photoUrl": "https://lh3.googleusercontent.com/a-/AOh14GhY6x3bmDdXRl6lSqWi0RKwhXwFroevfB4OUaxfwg=s64",
      "userId": "16043617655025119202"
     },
     "user_tz": -330
    },
    "id": "Ubj9wyAutQx2"
   },
   "outputs": [],
   "source": [
    "y_pred = model4.predict(test_matrix)"
   ]
  },
  {
   "cell_type": "code",
   "execution_count": 50,
   "metadata": {
    "executionInfo": {
     "elapsed": 17,
     "status": "ok",
     "timestamp": 1643776512921,
     "user": {
      "displayName": "Deepak Avhad",
      "photoUrl": "https://lh3.googleusercontent.com/a-/AOh14GhY6x3bmDdXRl6lSqWi0RKwhXwFroevfB4OUaxfwg=s64",
      "userId": "16043617655025119202"
     },
     "user_tz": -330
    },
    "id": "DEz31sEEtUy9"
   },
   "outputs": [],
   "source": [
    "y_pred = np.where(y_pred >= 0.5, 1, 0)"
   ]
  },
  {
   "cell_type": "code",
   "execution_count": 51,
   "metadata": {
    "colab": {
     "base_uri": "https://localhost:8080/"
    },
    "executionInfo": {
     "elapsed": 17,
     "status": "ok",
     "timestamp": 1643776512922,
     "user": {
      "displayName": "Deepak Avhad",
      "photoUrl": "https://lh3.googleusercontent.com/a-/AOh14GhY6x3bmDdXRl6lSqWi0RKwhXwFroevfB4OUaxfwg=s64",
      "userId": "16043617655025119202"
     },
     "user_tz": -330
    },
    "id": "zgAu2pr4tWEa",
    "outputId": "95f031eb-3874-4a99-99fd-a8472467d92e"
   },
   "outputs": [
    {
     "name": "stdout",
     "output_type": "stream",
     "text": [
      "              precision    recall  f1-score   support\n",
      "\n",
      "           0       0.76      0.72      0.73       151\n",
      "           1       0.73      0.77      0.75       149\n",
      "\n",
      "    accuracy                           0.74       300\n",
      "   macro avg       0.74      0.74      0.74       300\n",
      "weighted avg       0.74      0.74      0.74       300\n",
      "\n"
     ]
    }
   ],
   "source": [
    "print(classification_report(y_test,y_pred))"
   ]
  },
  {
   "cell_type": "markdown",
   "metadata": {
    "id": "U0Rwj_r-tZpB"
   },
   "source": [
    "##Bidirectional LSTM"
   ]
  },
  {
   "cell_type": "code",
   "execution_count": 52,
   "metadata": {
    "executionInfo": {
     "elapsed": 3881,
     "status": "ok",
     "timestamp": 1643776544378,
     "user": {
      "displayName": "Deepak Avhad",
      "photoUrl": "https://lh3.googleusercontent.com/a-/AOh14GhY6x3bmDdXRl6lSqWi0RKwhXwFroevfB4OUaxfwg=s64",
      "userId": "16043617655025119202"
     },
     "user_tz": -330
    },
    "id": "2H_ccTKItdq1"
   },
   "outputs": [],
   "source": [
    "model5 = Sequential()\n",
    "model5.add(Embedding( input_dim=vocab_len+1,\n",
    "                     output_dim=64,\n",
    "                     input_length=max_length,\n",
    "                     mask_zero=True))\n",
    "model5.add(Bidirectional(LSTM(64)))\n",
    "model5.add(Dense(64, activation=\"relu\"))\n",
    "model5.add(Dense(32, activation=\"relu\"))\n",
    "model5.add(Dense(1, activation=\"sigmoid\"))"
   ]
  },
  {
   "cell_type": "code",
   "execution_count": 53,
   "metadata": {
    "colab": {
     "base_uri": "https://localhost:8080/"
    },
    "executionInfo": {
     "elapsed": 56516,
     "status": "ok",
     "timestamp": 1643776626097,
     "user": {
      "displayName": "Deepak Avhad",
      "photoUrl": "https://lh3.googleusercontent.com/a-/AOh14GhY6x3bmDdXRl6lSqWi0RKwhXwFroevfB4OUaxfwg=s64",
      "userId": "16043617655025119202"
     },
     "user_tz": -330
    },
    "id": "lMsyazHCt3tM",
    "outputId": "4bce3fa2-9427-41b5-824f-bac7ceb87ae7"
   },
   "outputs": [
    {
     "name": "stdout",
     "output_type": "stream",
     "text": [
      "Epoch 1/10\n",
      "22/22 [==============================] - 17s 74ms/step - loss: 0.6937\n",
      "Epoch 2/10\n",
      "22/22 [==============================] - 3s 115ms/step - loss: 0.6698\n",
      "Epoch 3/10\n",
      "22/22 [==============================] - 2s 108ms/step - loss: 0.4400\n",
      "Epoch 4/10\n",
      "22/22 [==============================] - 3s 125ms/step - loss: 0.1623\n",
      "Epoch 5/10\n",
      "22/22 [==============================] - 3s 136ms/step - loss: 0.0737\n",
      "Epoch 6/10\n",
      "22/22 [==============================] - 3s 147ms/step - loss: 0.0426\n",
      "Epoch 7/10\n",
      "22/22 [==============================] - 3s 124ms/step - loss: 0.0232\n",
      "Epoch 8/10\n",
      "22/22 [==============================] - 3s 113ms/step - loss: 0.0154\n",
      "Epoch 9/10\n",
      "22/22 [==============================] - 2s 114ms/step - loss: 0.0113\n",
      "Epoch 10/10\n",
      "22/22 [==============================] - 2s 106ms/step - loss: 0.0098\n"
     ]
    },
    {
     "data": {
      "text/plain": [
       "<keras.callbacks.History at 0x7fb70182cd50>"
      ]
     },
     "execution_count": 53,
     "metadata": {},
     "output_type": "execute_result"
    }
   ],
   "source": [
    "model5.compile(optimizer=\"adam\",loss=\"binary_crossentropy\")\n",
    "model5.fit(train_matrix,y_train,epochs=10,batch_size=32)"
   ]
  },
  {
   "cell_type": "code",
   "execution_count": 54,
   "metadata": {
    "executionInfo": {
     "elapsed": 6880,
     "status": "ok",
     "timestamp": 1643776634340,
     "user": {
      "displayName": "Deepak Avhad",
      "photoUrl": "https://lh3.googleusercontent.com/a-/AOh14GhY6x3bmDdXRl6lSqWi0RKwhXwFroevfB4OUaxfwg=s64",
      "userId": "16043617655025119202"
     },
     "user_tz": -330
    },
    "id": "5awvZoPRt-td"
   },
   "outputs": [],
   "source": [
    "y_pred = model5.predict(test_matrix)"
   ]
  },
  {
   "cell_type": "code",
   "execution_count": 55,
   "metadata": {
    "executionInfo": {
     "elapsed": 20,
     "status": "ok",
     "timestamp": 1643776634342,
     "user": {
      "displayName": "Deepak Avhad",
      "photoUrl": "https://lh3.googleusercontent.com/a-/AOh14GhY6x3bmDdXRl6lSqWi0RKwhXwFroevfB4OUaxfwg=s64",
      "userId": "16043617655025119202"
     },
     "user_tz": -330
    },
    "id": "_R9ocrMluE4H"
   },
   "outputs": [],
   "source": [
    "y_pred = np.where(y_pred >= 0.5, 1, 0)"
   ]
  },
  {
   "cell_type": "code",
   "execution_count": 56,
   "metadata": {
    "colab": {
     "base_uri": "https://localhost:8080/"
    },
    "executionInfo": {
     "elapsed": 22,
     "status": "ok",
     "timestamp": 1643776634345,
     "user": {
      "displayName": "Deepak Avhad",
      "photoUrl": "https://lh3.googleusercontent.com/a-/AOh14GhY6x3bmDdXRl6lSqWi0RKwhXwFroevfB4OUaxfwg=s64",
      "userId": "16043617655025119202"
     },
     "user_tz": -330
    },
    "id": "jw0SuqdeuJC4",
    "outputId": "7869cf28-1e25-488e-d9c1-99caa2145f49"
   },
   "outputs": [
    {
     "name": "stdout",
     "output_type": "stream",
     "text": [
      "              precision    recall  f1-score   support\n",
      "\n",
      "           0       0.75      0.81      0.78       151\n",
      "           1       0.79      0.72      0.76       149\n",
      "\n",
      "    accuracy                           0.77       300\n",
      "   macro avg       0.77      0.77      0.77       300\n",
      "weighted avg       0.77      0.77      0.77       300\n",
      "\n"
     ]
    }
   ],
   "source": [
    "print(classification_report(y_test,y_pred))"
   ]
  },
  {
   "cell_type": "markdown",
   "metadata": {
    "id": "KaEDdRt4xKX-"
   },
   "source": [
    "##GRU"
   ]
  },
  {
   "cell_type": "code",
   "execution_count": 57,
   "metadata": {
    "executionInfo": {
     "elapsed": 2136,
     "status": "ok",
     "timestamp": 1643777470419,
     "user": {
      "displayName": "Deepak Avhad",
      "photoUrl": "https://lh3.googleusercontent.com/a-/AOh14GhY6x3bmDdXRl6lSqWi0RKwhXwFroevfB4OUaxfwg=s64",
      "userId": "16043617655025119202"
     },
     "user_tz": -330
    },
    "id": "VXbZWjKSuNb5"
   },
   "outputs": [],
   "source": [
    "model6 = Sequential()\n",
    "model6.add(Embedding( input_dim=vocab_len+1,\n",
    "                     output_dim=64,\n",
    "                     input_length=max_length,\n",
    "                     mask_zero=True))\n",
    "model6.add(GRU(64))\n",
    "model6.add(Dense(64, activation=\"relu\"))\n",
    "model6.add(Dense(32, activation=\"relu\"))\n",
    "model6.add(Dense(1, activation=\"sigmoid\"))"
   ]
  },
  {
   "cell_type": "code",
   "execution_count": 58,
   "metadata": {
    "colab": {
     "base_uri": "https://localhost:8080/"
    },
    "executionInfo": {
     "elapsed": 32571,
     "status": "ok",
     "timestamp": 1643777532035,
     "user": {
      "displayName": "Deepak Avhad",
      "photoUrl": "https://lh3.googleusercontent.com/a-/AOh14GhY6x3bmDdXRl6lSqWi0RKwhXwFroevfB4OUaxfwg=s64",
      "userId": "16043617655025119202"
     },
     "user_tz": -330
    },
    "id": "TcvNq49KxaNX",
    "outputId": "97d83501-c056-4f45-e1ad-115bf0ecf564"
   },
   "outputs": [
    {
     "name": "stdout",
     "output_type": "stream",
     "text": [
      "Epoch 1/10\n",
      "22/22 [==============================] - 14s 90ms/step - loss: 0.6927\n",
      "Epoch 2/10\n",
      "22/22 [==============================] - 2s 78ms/step - loss: 0.6599\n",
      "Epoch 3/10\n",
      "22/22 [==============================] - 1s 65ms/step - loss: 0.3883\n",
      "Epoch 4/10\n",
      "22/22 [==============================] - 2s 80ms/step - loss: 0.1153\n",
      "Epoch 5/10\n",
      "22/22 [==============================] - 2s 79ms/step - loss: 0.0446\n",
      "Epoch 6/10\n",
      "22/22 [==============================] - 2s 77ms/step - loss: 0.0203\n",
      "Epoch 7/10\n",
      "22/22 [==============================] - 2s 82ms/step - loss: 0.0136\n",
      "Epoch 8/10\n",
      "22/22 [==============================] - 2s 80ms/step - loss: 0.0102\n",
      "Epoch 9/10\n",
      "22/22 [==============================] - 2s 74ms/step - loss: 0.0095\n",
      "Epoch 10/10\n",
      "22/22 [==============================] - 1s 65ms/step - loss: 0.0071\n"
     ]
    },
    {
     "data": {
      "text/plain": [
       "<keras.callbacks.History at 0x7fb6fd5f9d10>"
      ]
     },
     "execution_count": 58,
     "metadata": {},
     "output_type": "execute_result"
    }
   ],
   "source": [
    "model6.compile(optimizer=\"adam\",loss=\"binary_crossentropy\")\n",
    "model6.fit(train_matrix,y_train,epochs=10,batch_size=32)"
   ]
  },
  {
   "cell_type": "code",
   "execution_count": 59,
   "metadata": {
    "executionInfo": {
     "elapsed": 3503,
     "status": "ok",
     "timestamp": 1643777536533,
     "user": {
      "displayName": "Deepak Avhad",
      "photoUrl": "https://lh3.googleusercontent.com/a-/AOh14GhY6x3bmDdXRl6lSqWi0RKwhXwFroevfB4OUaxfwg=s64",
      "userId": "16043617655025119202"
     },
     "user_tz": -330
    },
    "id": "BcECaTYxxh1Q"
   },
   "outputs": [],
   "source": [
    "y_pred = model6.predict(test_matrix)"
   ]
  },
  {
   "cell_type": "code",
   "execution_count": 60,
   "metadata": {
    "executionInfo": {
     "elapsed": 451,
     "status": "ok",
     "timestamp": 1643777541290,
     "user": {
      "displayName": "Deepak Avhad",
      "photoUrl": "https://lh3.googleusercontent.com/a-/AOh14GhY6x3bmDdXRl6lSqWi0RKwhXwFroevfB4OUaxfwg=s64",
      "userId": "16043617655025119202"
     },
     "user_tz": -330
    },
    "id": "nfQFv4-bxoJ9"
   },
   "outputs": [],
   "source": [
    "y_pred = np.where(y_pred >= 0.5, 1, 0)"
   ]
  },
  {
   "cell_type": "code",
   "execution_count": 61,
   "metadata": {
    "colab": {
     "base_uri": "https://localhost:8080/"
    },
    "executionInfo": {
     "elapsed": 410,
     "status": "ok",
     "timestamp": 1643777556894,
     "user": {
      "displayName": "Deepak Avhad",
      "photoUrl": "https://lh3.googleusercontent.com/a-/AOh14GhY6x3bmDdXRl6lSqWi0RKwhXwFroevfB4OUaxfwg=s64",
      "userId": "16043617655025119202"
     },
     "user_tz": -330
    },
    "id": "FiZf1jkzxr7v",
    "outputId": "e9646475-6a4c-4412-fc5f-c09f9170024d"
   },
   "outputs": [
    {
     "name": "stdout",
     "output_type": "stream",
     "text": [
      "              precision    recall  f1-score   support\n",
      "\n",
      "           0       0.73      0.78      0.75       151\n",
      "           1       0.76      0.70      0.73       149\n",
      "\n",
      "    accuracy                           0.74       300\n",
      "   macro avg       0.74      0.74      0.74       300\n",
      "weighted avg       0.74      0.74      0.74       300\n",
      "\n"
     ]
    }
   ],
   "source": [
    "print(classification_report(y_test,y_pred))"
   ]
  },
  {
   "cell_type": "markdown",
   "metadata": {
    "id": "o4GWhZrlxxbO"
   },
   "source": [
    "##Multidimentional GRU"
   ]
  },
  {
   "cell_type": "code",
   "execution_count": 62,
   "metadata": {
    "executionInfo": {
     "elapsed": 5831,
     "status": "ok",
     "timestamp": 1643777666725,
     "user": {
      "displayName": "Deepak Avhad",
      "photoUrl": "https://lh3.googleusercontent.com/a-/AOh14GhY6x3bmDdXRl6lSqWi0RKwhXwFroevfB4OUaxfwg=s64",
      "userId": "16043617655025119202"
     },
     "user_tz": -330
    },
    "id": "3PdKE1jMxvwr"
   },
   "outputs": [],
   "source": [
    "model7 = Sequential()\n",
    "model7.add(Embedding( input_dim=vocab_len+1,\n",
    "                     output_dim=64,\n",
    "                     input_length=max_length,\n",
    "                     mask_zero=True))\n",
    "model7.add(GRU(64, return_sequences=True))\n",
    "model7.add(GRU(64, return_sequences=True))\n",
    "model7.add(GRU(64))\n",
    "model7.add(Dense(64, activation=\"relu\"))\n",
    "model7.add(Dense(32, activation=\"relu\"))\n",
    "model7.add(Dense(1, activation=\"sigmoid\"))"
   ]
  },
  {
   "cell_type": "code",
   "execution_count": 63,
   "metadata": {
    "colab": {
     "base_uri": "https://localhost:8080/"
    },
    "executionInfo": {
     "elapsed": 54090,
     "status": "ok",
     "timestamp": 1643777747673,
     "user": {
      "displayName": "Deepak Avhad",
      "photoUrl": "https://lh3.googleusercontent.com/a-/AOh14GhY6x3bmDdXRl6lSqWi0RKwhXwFroevfB4OUaxfwg=s64",
      "userId": "16043617655025119202"
     },
     "user_tz": -330
    },
    "id": "kq5nbDheyJOv",
    "outputId": "c4aa5f82-262b-4604-87f4-20df3b07107f"
   },
   "outputs": [
    {
     "name": "stdout",
     "output_type": "stream",
     "text": [
      "Epoch 1/10\n",
      "22/22 [==============================] - 19s 98ms/step - loss: 0.6943\n",
      "Epoch 2/10\n",
      "22/22 [==============================] - 3s 158ms/step - loss: 0.6806\n",
      "Epoch 3/10\n",
      "22/22 [==============================] - 3s 155ms/step - loss: 0.3607\n",
      "Epoch 4/10\n",
      "22/22 [==============================] - 4s 199ms/step - loss: 0.1027\n",
      "Epoch 5/10\n",
      "22/22 [==============================] - 5s 222ms/step - loss: 0.0380\n",
      "Epoch 6/10\n",
      "22/22 [==============================] - 4s 182ms/step - loss: 0.0228\n",
      "Epoch 7/10\n",
      "22/22 [==============================] - 4s 167ms/step - loss: 0.0146\n",
      "Epoch 8/10\n",
      "22/22 [==============================] - 3s 154ms/step - loss: 0.0123\n",
      "Epoch 9/10\n",
      "22/22 [==============================] - 4s 168ms/step - loss: 0.0094\n",
      "Epoch 10/10\n",
      "22/22 [==============================] - 4s 179ms/step - loss: 0.0065\n"
     ]
    },
    {
     "data": {
      "text/plain": [
       "<keras.callbacks.History at 0x7fb6fb387e50>"
      ]
     },
     "execution_count": 63,
     "metadata": {},
     "output_type": "execute_result"
    }
   ],
   "source": [
    "model7.compile(optimizer=\"adam\",loss=\"binary_crossentropy\")\n",
    "model7.fit(train_matrix,y_train,epochs=10,batch_size=32)"
   ]
  },
  {
   "cell_type": "code",
   "execution_count": 64,
   "metadata": {
    "executionInfo": {
     "elapsed": 5122,
     "status": "ok",
     "timestamp": 1643777754161,
     "user": {
      "displayName": "Deepak Avhad",
      "photoUrl": "https://lh3.googleusercontent.com/a-/AOh14GhY6x3bmDdXRl6lSqWi0RKwhXwFroevfB4OUaxfwg=s64",
      "userId": "16043617655025119202"
     },
     "user_tz": -330
    },
    "id": "ZGAXN-FRyRO7"
   },
   "outputs": [],
   "source": [
    "y_pred = model7.predict(test_matrix)"
   ]
  },
  {
   "cell_type": "code",
   "execution_count": 65,
   "metadata": {
    "executionInfo": {
     "elapsed": 17,
     "status": "ok",
     "timestamp": 1643777754163,
     "user": {
      "displayName": "Deepak Avhad",
      "photoUrl": "https://lh3.googleusercontent.com/a-/AOh14GhY6x3bmDdXRl6lSqWi0RKwhXwFroevfB4OUaxfwg=s64",
      "userId": "16043617655025119202"
     },
     "user_tz": -330
    },
    "id": "UXwDTLJjyX9i"
   },
   "outputs": [],
   "source": [
    "y_pred = np.where(y_pred >= 0.5, 1, 0)"
   ]
  },
  {
   "cell_type": "code",
   "execution_count": 66,
   "metadata": {
    "colab": {
     "base_uri": "https://localhost:8080/"
    },
    "executionInfo": {
     "elapsed": 366,
     "status": "ok",
     "timestamp": 1643777758823,
     "user": {
      "displayName": "Deepak Avhad",
      "photoUrl": "https://lh3.googleusercontent.com/a-/AOh14GhY6x3bmDdXRl6lSqWi0RKwhXwFroevfB4OUaxfwg=s64",
      "userId": "16043617655025119202"
     },
     "user_tz": -330
    },
    "id": "fbgTdGN5ycG8",
    "outputId": "e3276ae7-c3f7-4291-f899-37a67658b33f"
   },
   "outputs": [
    {
     "name": "stdout",
     "output_type": "stream",
     "text": [
      "              precision    recall  f1-score   support\n",
      "\n",
      "           0       0.74      0.75      0.75       151\n",
      "           1       0.75      0.73      0.74       149\n",
      "\n",
      "    accuracy                           0.74       300\n",
      "   macro avg       0.74      0.74      0.74       300\n",
      "weighted avg       0.74      0.74      0.74       300\n",
      "\n"
     ]
    }
   ],
   "source": [
    "print(classification_report(y_test,y_pred))"
   ]
  },
  {
   "cell_type": "markdown",
   "metadata": {
    "id": "UUyHpwZKykK2"
   },
   "source": [
    "##Bidirectional GRU"
   ]
  },
  {
   "cell_type": "code",
   "execution_count": 67,
   "metadata": {
    "executionInfo": {
     "elapsed": 3694,
     "status": "ok",
     "timestamp": 1643777860049,
     "user": {
      "displayName": "Deepak Avhad",
      "photoUrl": "https://lh3.googleusercontent.com/a-/AOh14GhY6x3bmDdXRl6lSqWi0RKwhXwFroevfB4OUaxfwg=s64",
      "userId": "16043617655025119202"
     },
     "user_tz": -330
    },
    "id": "91BmEIg7yhD0"
   },
   "outputs": [],
   "source": [
    "model8 = Sequential()\n",
    "model8.add(Embedding( input_dim=vocab_len+1,\n",
    "                     output_dim=64,\n",
    "                     input_length=max_length,\n",
    "                     mask_zero=True))\n",
    "model8.add(Bidirectional(GRU(64)))\n",
    "model8.add(Dense(64, activation=\"relu\"))\n",
    "model8.add(Dense(32, activation=\"relu\"))\n",
    "model8.add(Dense(1, activation=\"sigmoid\"))"
   ]
  },
  {
   "cell_type": "code",
   "execution_count": 68,
   "metadata": {
    "colab": {
     "base_uri": "https://localhost:8080/"
    },
    "executionInfo": {
     "elapsed": 59811,
     "status": "ok",
     "timestamp": 1643777942520,
     "user": {
      "displayName": "Deepak Avhad",
      "photoUrl": "https://lh3.googleusercontent.com/a-/AOh14GhY6x3bmDdXRl6lSqWi0RKwhXwFroevfB4OUaxfwg=s64",
      "userId": "16043617655025119202"
     },
     "user_tz": -330
    },
    "id": "waE2GoMqy48f",
    "outputId": "22e4bc4a-869b-4c14-c493-d4b7b320c785"
   },
   "outputs": [
    {
     "name": "stdout",
     "output_type": "stream",
     "text": [
      "Epoch 1/10\n",
      "22/22 [==============================] - 21s 91ms/step - loss: 0.6935\n",
      "Epoch 2/10\n",
      "22/22 [==============================] - 2s 90ms/step - loss: 0.6754\n",
      "Epoch 3/10\n",
      "22/22 [==============================] - 2s 112ms/step - loss: 0.4671\n",
      "Epoch 4/10\n",
      "22/22 [==============================] - 2s 100ms/step - loss: 0.1271\n",
      "Epoch 5/10\n",
      "22/22 [==============================] - 2s 107ms/step - loss: 0.0517\n",
      "Epoch 6/10\n",
      "22/22 [==============================] - 3s 117ms/step - loss: 0.0201\n",
      "Epoch 7/10\n",
      "22/22 [==============================] - 3s 127ms/step - loss: 0.0120\n",
      "Epoch 8/10\n",
      "22/22 [==============================] - 3s 127ms/step - loss: 0.0089\n",
      "Epoch 9/10\n",
      "22/22 [==============================] - 3s 129ms/step - loss: 0.0068\n",
      "Epoch 10/10\n",
      "22/22 [==============================] - 2s 100ms/step - loss: 0.0025\n"
     ]
    },
    {
     "data": {
      "text/plain": [
       "<keras.callbacks.History at 0x7fb6fc317910>"
      ]
     },
     "execution_count": 68,
     "metadata": {},
     "output_type": "execute_result"
    }
   ],
   "source": [
    "model8.compile(optimizer=\"adam\",loss=\"binary_crossentropy\")\n",
    "model8.fit(train_matrix,y_train,epochs=10,batch_size=32)"
   ]
  },
  {
   "cell_type": "code",
   "execution_count": 69,
   "metadata": {
    "executionInfo": {
     "elapsed": 3227,
     "status": "ok",
     "timestamp": 1643777947143,
     "user": {
      "displayName": "Deepak Avhad",
      "photoUrl": "https://lh3.googleusercontent.com/a-/AOh14GhY6x3bmDdXRl6lSqWi0RKwhXwFroevfB4OUaxfwg=s64",
      "userId": "16043617655025119202"
     },
     "user_tz": -330
    },
    "id": "1kKXUaCky_aQ"
   },
   "outputs": [],
   "source": [
    "y_pred = model8.predict(test_matrix)"
   ]
  },
  {
   "cell_type": "code",
   "execution_count": 70,
   "metadata": {
    "executionInfo": {
     "elapsed": 8,
     "status": "ok",
     "timestamp": 1643777947144,
     "user": {
      "displayName": "Deepak Avhad",
      "photoUrl": "https://lh3.googleusercontent.com/a-/AOh14GhY6x3bmDdXRl6lSqWi0RKwhXwFroevfB4OUaxfwg=s64",
      "userId": "16043617655025119202"
     },
     "user_tz": -330
    },
    "id": "UIGu2EWyzHar"
   },
   "outputs": [],
   "source": [
    "y_pred = np.where(y_pred >= 0.5, 1, 0)"
   ]
  },
  {
   "cell_type": "code",
   "execution_count": 71,
   "metadata": {
    "colab": {
     "base_uri": "https://localhost:8080/"
    },
    "executionInfo": {
     "elapsed": 364,
     "status": "ok",
     "timestamp": 1643777952752,
     "user": {
      "displayName": "Deepak Avhad",
      "photoUrl": "https://lh3.googleusercontent.com/a-/AOh14GhY6x3bmDdXRl6lSqWi0RKwhXwFroevfB4OUaxfwg=s64",
      "userId": "16043617655025119202"
     },
     "user_tz": -330
    },
    "id": "8tpfNr_wzM11",
    "outputId": "5125cccc-d30c-4439-d3ec-9f5a8089ea29"
   },
   "outputs": [
    {
     "name": "stdout",
     "output_type": "stream",
     "text": [
      "              precision    recall  f1-score   support\n",
      "\n",
      "           0       0.73      0.81      0.77       151\n",
      "           1       0.78      0.70      0.74       149\n",
      "\n",
      "    accuracy                           0.76       300\n",
      "   macro avg       0.76      0.76      0.76       300\n",
      "weighted avg       0.76      0.76      0.76       300\n",
      "\n"
     ]
    }
   ],
   "source": [
    "print(classification_report(y_test,y_pred))"
   ]
  },
  {
   "cell_type": "code",
   "execution_count": null,
   "metadata": {
    "id": "EZx1LLSYzQay"
   },
   "outputs": [],
   "source": []
  }
 ],
 "metadata": {
  "colab": {
   "authorship_tag": "ABX9TyPghp6piX5gWn6NoSDCNhcB",
   "collapsed_sections": [],
   "mount_file_id": "182LsCzz-Vz607x1CkifIszp-96RG6pAU",
   "name": "Sentiment Analysis using sequential model.ipynb",
   "provenance": []
  },
  "kernelspec": {
   "display_name": "Python 3",
   "language": "python",
   "name": "python3"
  },
  "language_info": {
   "codemirror_mode": {
    "name": "ipython",
    "version": 3
   },
   "file_extension": ".py",
   "mimetype": "text/x-python",
   "name": "python",
   "nbconvert_exporter": "python",
   "pygments_lexer": "ipython3",
   "version": "3.8.8"
  }
 },
 "nbformat": 4,
 "nbformat_minor": 1
}
